{
 "cells": [
  {
   "cell_type": "code",
   "execution_count": 1,
   "metadata": {},
   "outputs": [],
   "source": [
    "client_id = ''\n",
    "client_secret = ''"
   ]
  },
  {
   "cell_type": "code",
   "execution_count": 6,
   "metadata": {},
   "outputs": [
    {
     "name": "stdout",
     "output_type": "stream",
     "text": [
      "{\n",
      "    \"result\": {\n",
      "        \"total\": 1,\n",
      "        \"userquery\": \"언주로 81길 15\",\n",
      "        \"items\": [\n",
      "            {\n",
      "                \"address\": \"서울특별시 강남구 언주로81길 15\",\n",
      "                \"addrdetail\": {\n",
      "                    \"country\": \"대한민국\",\n",
      "                    \"sido\": \"서울특별시\",\n",
      "                    \"sigugun\": \"강남구\",\n",
      "                    \"dongmyun\": \"언주로81길\",\n",
      "                    \"ri\": \"\",\n",
      "                    \"rest\": \"15\"\n",
      "                },\n",
      "                \"isRoadAddress\": true,\n",
      "                \"point\": {\n",
      "                    \"x\": 127.0424846,\n",
      "                    \"y\": 37.4998586\n",
      "                }\n",
      "            }\n",
      "        ]\n",
      "    }\n",
      "}\n"
     ]
    }
   ],
   "source": [
    "# 본 예제는 Python에서 주소좌표변환 api를 호출하는 예제입니다.\n",
    "import os\n",
    "import sys\n",
    "import urllib.request\n",
    "\n",
    "encText = urllib.parse.quote(\"언주로 81길 15\")\n",
    "url = \"https://openapi.naver.com/v1/map/geocode?query=\" + encText # json 결과\n",
    "request = urllib.request.Request(url)\n",
    "request.add_header(\"X-Naver-Client-Id\",client_id)\n",
    "request.add_header(\"X-Naver-Client-Secret\",client_secret)\n",
    "response = urllib.request.urlopen(request)\n",
    "rescode = response.getcode()\n",
    "if(rescode==200):\n",
    "    response_body = response.read()\n",
    "    print(response_body.decode('utf-8'))\n",
    "else:\n",
    "    print(\"Error Code:\" + rescode)"
   ]
  },
  {
   "cell_type": "code",
   "execution_count": 22,
   "metadata": {},
   "outputs": [],
   "source": [
    "# 본 예제는 Python에서 주소좌표변환 api를 호출하는 예제입니다.\n",
    "import os\n",
    "import sys\n",
    "import requests  # pip install requests\n",
    "\n",
    "def get_position(addr):\n",
    "    url = 'https://openapi.naver.com/v1/map/geocode'\n",
    "\n",
    "    params = {\n",
    "        'query': addr,\n",
    "    }\n",
    "\n",
    "    headers = {\n",
    "        'X-Naver-Client-Id': client_id,\n",
    "        'X-Naver-Client-Secret': client_secret,\n",
    "    }\n",
    "\n",
    "    res = requests.get(url, params=params, headers=headers)\n",
    "    \n",
    "    try:\n",
    "        return res.json()['result']['items'][0]['point']\n",
    "    except (KeyError, IndexError):\n",
    "        return None"
   ]
  },
  {
   "cell_type": "code",
   "execution_count": 24,
   "metadata": {},
   "outputs": [
    {
     "name": "stdout",
     "output_type": "stream",
     "text": [
      "목성시 화성군 None\n",
      "언주로81길 15 {'x': 127.0424846, 'y': 37.4998586}\n"
     ]
    }
   ],
   "source": [
    "addr_list = ['목성시 화성군', '언주로81길 15']\n",
    "for addr in addr_list:\n",
    "    position = get_position(addr)\n",
    "    print(addr, position)"
   ]
  },
  {
   "cell_type": "code",
   "execution_count": null,
   "metadata": {},
   "outputs": [],
   "source": []
  }
 ],
 "metadata": {
  "kernelspec": {
   "display_name": "Python 3",
   "language": "python",
   "name": "python3"
  },
  "language_info": {
   "codemirror_mode": {
    "name": "ipython",
    "version": 3
   },
   "file_extension": ".py",
   "mimetype": "text/x-python",
   "name": "python",
   "nbconvert_exporter": "python",
   "pygments_lexer": "ipython3",
   "version": "3.6.3"
  }
 },
 "nbformat": 4,
 "nbformat_minor": 2
}
