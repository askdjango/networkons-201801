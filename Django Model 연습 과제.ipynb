{
 "cells": [
  {
   "cell_type": "markdown",
   "metadata": {},
   "source": [
    "다음 구성으로 모델을 구성해보겠습니다.\n",
    "\n",
    "다음 3개 앱이 있습니다. 각 앱 별로 다음 과정을 진행하세요.\n",
    "\n",
    "- 앱 별로 모델을 생성하고, 마이그레이션을 진행합니다.\n",
    "- 앱 별로 admin에 해당 모델을 등록합니다.\n",
    "- admin 페이지를 통해 모델 데이터를 5개씩 등록합니다. (데이터는 가급적 현실적인 데이터를 넣어주세요.) - \"ㅋㅋㅋ\" 금지\n",
    "- 앱 별로 목록 조회 페이지를 만들어주세요. (템플릿 필히 활용)"
   ]
  },
  {
   "cell_type": "markdown",
   "metadata": {},
   "source": [
    "\n",
    "## 1) weblog/models.py\n",
    "\n",
    "```python\n",
    "from django.db import models\n",
    "\n",
    "class Post(models.Model):\n",
    "    title = models.CharField(max_length=100)\n",
    "    content = models.TextField()\n",
    "    created_at = models.DateTimeField(auto_now_add=True)\n",
    "    updated_at = models.DateTimeField(auto_now_add=True)\n",
    "```\n",
    "\n",
    "## 2) baemin/models.py\n",
    "\n",
    "```python\n",
    "from django.db import models\n",
    "\n",
    "class Shop(models.Model):\n",
    "    name = models.CharField(max_length=100)\n",
    "    desc = models.TextField()\n",
    "    latlng = models.CharField(max_length=50, verbose_name='가게 위도/경도', help_text='\"위도,경도\" 포맷으로 입력해주세요.\")\n",
    "    open_at = models.DateField(verbose_name='오픈일')\n",
    "```\n",
    "\n",
    "## 3) webtoon/models.py\n",
    "\n",
    "```python\n",
    "from django.db import models\n",
    "\n",
    "class Comic(models.Model):\n",
    "    title = models.CharField(max_length=100)\n",
    "    author = models.CharField(max_length=20, verbose_name='작가')\n",
    "    publisher = models.CharField(max_length=20)\n",
    "    published_at = models.DateField(verbose_name='출간일')\n",
    "```"
   ]
  },
  {
   "cell_type": "code",
   "execution_count": null,
   "metadata": {},
   "outputs": [],
   "source": []
  }
 ],
 "metadata": {
  "kernelspec": {
   "display_name": "Python 3",
   "language": "python",
   "name": "python3"
  },
  "language_info": {
   "codemirror_mode": {
    "name": "ipython",
    "version": 3
   },
   "file_extension": ".py",
   "mimetype": "text/x-python",
   "name": "python",
   "nbconvert_exporter": "python",
   "pygments_lexer": "ipython3",
   "version": "3.6.3"
  }
 },
 "nbformat": 4,
 "nbformat_minor": 2
}
