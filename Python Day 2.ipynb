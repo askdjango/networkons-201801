{
 "cells": [
  {
   "cell_type": "markdown",
   "metadata": {},
   "source": [
    "# Day 2"
   ]
  },
  {
   "cell_type": "code",
   "execution_count": 4,
   "metadata": {
    "collapsed": true
   },
   "outputs": [
    {
     "name": "stdout",
     "output_type": "stream",
     "text": [
      "0\n",
      "0\n",
      "0\n",
      "0\n",
      "0\n",
      "1\n",
      "1\n",
      "0\n",
      "1\n",
      "2\n",
      "2\n",
      "4\n",
      "0\n",
      "2\n",
      "4\n"
     ]
    }
   ],
   "source": [
    "for i in range(3):\n",
    "    print(i)\n",
    "    print(i**2)\n",
    "    for j in range(3):\n",
    "        print(i * j)"
   ]
  },
  {
   "cell_type": "code",
   "execution_count": 7,
   "metadata": {},
   "outputs": [
    {
     "name": "stdout",
     "output_type": "stream",
     "text": [
      "### 2단 ###\n",
      "2 * 1 = 2\n",
      "2 * 2 = 4\n",
      "2 * 3 = 6\n",
      "2 * 4 = 8\n",
      "2 * 5 = 10\n",
      "2 * 6 = 12\n",
      "2 * 7 = 14\n",
      "2 * 8 = 16\n",
      "2 * 9 = 18\n"
     ]
    }
   ],
   "source": [
    "# 구구단 2단을 출력하는 코드\n",
    "# 두번째 줄\n",
    "print('### 2단 ###')\n",
    "for i in range(1, 10):  # 1이상 10미만 범위에서 루프를 돕니다.\n",
    "    print('{} * {} = {}'.format(2, i, 2*i))"
   ]
  },
  {
   "cell_type": "markdown",
   "metadata": {
    "collapsed": true
   },
   "source": [
    "## 흐름 제어 (제어 구조)"
   ]
  },
  {
   "cell_type": "code",
   "execution_count": 5,
   "metadata": {},
   "outputs": [
    {
     "name": "stdout",
     "output_type": "stream",
     "text": [
      "숫자를 입력해주세요.0\n",
      "0입니다.\n"
     ]
    }
   ],
   "source": [
    "number = int(input('숫자를 입력해주세요.'))\n",
    "\n",
    "if number > 0:\n",
    "    print('양수입니다.')\n",
    "else:  # 아니라면\n",
    "    if number < 0:\n",
    "        print('음수입니다.')\n",
    "    else:\n",
    "        print('0입니다.')"
   ]
  },
  {
   "cell_type": "code",
   "execution_count": 7,
   "metadata": {},
   "outputs": [
    {
     "name": "stdout",
     "output_type": "stream",
     "text": [
      "0입니다.\n"
     ]
    }
   ],
   "source": [
    "if number > 0:\n",
    "    print('양수입니다.')\n",
    "elif number < 0:\n",
    "    print('음수입니다.')\n",
    "else:\n",
    "    print('0입니다.')"
   ]
  },
  {
   "cell_type": "code",
   "execution_count": 6,
   "metadata": {},
   "outputs": [
    {
     "name": "stdout",
     "output_type": "stream",
     "text": [
      "0입니다.\n"
     ]
    }
   ],
   "source": [
    "if number > 0:\n",
    "    print('양수입니다.')\n",
    "\n",
    "if number < 0:\n",
    "    print('음수입니다.')\n",
    "\n",
    "if number == 0:\n",
    "    print('0입니다.')"
   ]
  },
  {
   "cell_type": "code",
   "execution_count": 9,
   "metadata": {},
   "outputs": [
    {
     "name": "stdout",
     "output_type": "stream",
     "text": [
      "Enter Number : 123\n",
      "100의 자리수입니다.\n"
     ]
    }
   ],
   "source": [
    "number = int(input('Enter Number : '))\n",
    "\n",
    "if number < 0:\n",
    "    print('음수입니다.')\n",
    "\n",
    "# if 0 <= number < 10:  # 파이썬만 가능한 문법\n",
    "\n",
    "if 0 <= number and number < 10:\n",
    "    print('1의 자리수입니다.')\n",
    "if 10 <= number and number < 100:\n",
    "    print('10의 자리 수입니다.')\n",
    "if 100 <= number and number < 1000:\n",
    "    print('100의 자리수입니다.')\n",
    "if number >= 1000:\n",
    "    print('난 몰라. 너무 크다.')"
   ]
  },
  {
   "cell_type": "code",
   "execution_count": 10,
   "metadata": {},
   "outputs": [
    {
     "name": "stdout",
     "output_type": "stream",
     "text": [
      "Enter Number : 123\n",
      "100의 자리수입니다.\n"
     ]
    }
   ],
   "source": [
    "number = int(input('Enter Number : '))\n",
    "\n",
    "if number < 0:\n",
    "    print('음수입니다.')\n",
    "elif number < 10:\n",
    "    print('1의 자리수입니다.')\n",
    "elif number < 100:\n",
    "    print('10의 자리수입니다.')\n",
    "elif number < 1000:\n",
    "    print('100의 자리수입니다.')\n",
    "else:\n",
    "    print('난 몰라. 너무 크다.')"
   ]
  },
  {
   "cell_type": "code",
   "execution_count": null,
   "metadata": {
    "collapsed": true
   },
   "outputs": [],
   "source": []
  }
 ],
 "metadata": {
  "kernelspec": {
   "display_name": "Python 3",
   "language": "python",
   "name": "python3"
  },
  "language_info": {
   "codemirror_mode": {
    "name": "ipython",
    "version": 3
   },
   "file_extension": ".py",
   "mimetype": "text/x-python",
   "name": "python",
   "nbconvert_exporter": "python",
   "pygments_lexer": "ipython3",
   "version": "3.6.3"
  }
 },
 "nbformat": 4,
 "nbformat_minor": 2
}
