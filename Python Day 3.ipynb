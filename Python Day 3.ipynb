{
 "cells": [
  {
   "cell_type": "code",
   "execution_count": 1,
   "metadata": {
    "collapsed": true
   },
   "outputs": [],
   "source": [
    "import datetime"
   ]
  },
  {
   "cell_type": "code",
   "execution_count": 3,
   "metadata": {},
   "outputs": [
    {
     "data": {
      "text/plain": [
       "datetime.datetime(2018, 1, 25, 9, 43, 24, 35391)"
      ]
     },
     "execution_count": 3,
     "metadata": {},
     "output_type": "execute_result"
    }
   ],
   "source": [
    "now = datetime.datetime.now()\n",
    "now"
   ]
  },
  {
   "cell_type": "code",
   "execution_count": 10,
   "metadata": {},
   "outputs": [
    {
     "data": {
      "text/plain": [
       "'2018-01-25 09:43:24'"
      ]
     },
     "execution_count": 10,
     "metadata": {},
     "output_type": "execute_result"
    }
   ],
   "source": [
    "now.strftime('%Y-%m-%d %H:%M:%S')"
   ]
  },
  {
   "cell_type": "code",
   "execution_count": 9,
   "metadata": {},
   "outputs": [
    {
     "data": {
      "text/plain": [
       "'/Users/allieus/anaconda3/lib/python3.6/datetime.py'"
      ]
     },
     "execution_count": 9,
     "metadata": {},
     "output_type": "execute_result"
    }
   ],
   "source": [
    "datetime.__file__"
   ]
  },
  {
   "cell_type": "code",
   "execution_count": 11,
   "metadata": {
    "collapsed": true
   },
   "outputs": [],
   "source": [
    "from datetime import datetime"
   ]
  },
  {
   "cell_type": "code",
   "execution_count": 12,
   "metadata": {},
   "outputs": [
    {
     "data": {
      "text/plain": [
       "datetime.datetime(2018, 1, 25, 9, 52, 41, 736784)"
      ]
     },
     "execution_count": 12,
     "metadata": {},
     "output_type": "execute_result"
    }
   ],
   "source": [
    "datetime.now()"
   ]
  },
  {
   "cell_type": "markdown",
   "metadata": {},
   "source": [
    "## 인코딩"
   ]
  },
  {
   "cell_type": "code",
   "execution_count": 13,
   "metadata": {
    "collapsed": true
   },
   "outputs": [],
   "source": [
    "unicode_string = '가'"
   ]
  },
  {
   "cell_type": "code",
   "execution_count": 14,
   "metadata": {},
   "outputs": [
    {
     "data": {
      "text/plain": [
       "b'\\xea\\xb0\\x80'"
      ]
     },
     "execution_count": 14,
     "metadata": {},
     "output_type": "execute_result"
    }
   ],
   "source": [
    "unicode_string.encode('utf8')"
   ]
  },
  {
   "cell_type": "code",
   "execution_count": 15,
   "metadata": {},
   "outputs": [
    {
     "data": {
      "text/plain": [
       "b'\\xb0\\xa1'"
      ]
     },
     "execution_count": 15,
     "metadata": {},
     "output_type": "execute_result"
    }
   ],
   "source": [
    "unicode_string.encode('cp949')"
   ]
  },
  {
   "cell_type": "code",
   "execution_count": 16,
   "metadata": {},
   "outputs": [
    {
     "data": {
      "text/plain": [
       "b'\\xff\\xfe\\x00\\xac'"
      ]
     },
     "execution_count": 16,
     "metadata": {},
     "output_type": "execute_result"
    }
   ],
   "source": [
    "unicode_string.encode('utf16')"
   ]
  },
  {
   "cell_type": "code",
   "execution_count": 17,
   "metadata": {},
   "outputs": [
    {
     "data": {
      "text/plain": [
       "b'\\xff\\xfe\\x00\\x00\\x00\\xac\\x00\\x00'"
      ]
     },
     "execution_count": 17,
     "metadata": {},
     "output_type": "execute_result"
    }
   ],
   "source": [
    "unicode_string.encode('utf32')"
   ]
  },
  {
   "cell_type": "code",
   "execution_count": 18,
   "metadata": {},
   "outputs": [
    {
     "data": {
      "text/plain": [
       "b'\\xea\\xb0\\x80'"
      ]
     },
     "execution_count": 18,
     "metadata": {},
     "output_type": "execute_result"
    }
   ],
   "source": [
    "utf8_string = unicode_string.encode('utf8')\n",
    "utf8_string"
   ]
  },
  {
   "cell_type": "code",
   "execution_count": 19,
   "metadata": {},
   "outputs": [
    {
     "data": {
      "text/plain": [
       "'가'"
      ]
     },
     "execution_count": 19,
     "metadata": {},
     "output_type": "execute_result"
    }
   ],
   "source": [
    "utf8_string.decode('utf8')"
   ]
  },
  {
   "cell_type": "code",
   "execution_count": 20,
   "metadata": {},
   "outputs": [
    {
     "ename": "UnicodeDecodeError",
     "evalue": "'cp949' codec can't decode byte 0x80 in position 2: incomplete multibyte sequence",
     "output_type": "error",
     "traceback": [
      "\u001b[0;31m---------------------------------------------------------------------------\u001b[0m",
      "\u001b[0;31mUnicodeDecodeError\u001b[0m                        Traceback (most recent call last)",
      "\u001b[0;32m<ipython-input-20-60100cdf68a5>\u001b[0m in \u001b[0;36m<module>\u001b[0;34m()\u001b[0m\n\u001b[0;32m----> 1\u001b[0;31m \u001b[0mutf8_string\u001b[0m\u001b[0;34m.\u001b[0m\u001b[0mdecode\u001b[0m\u001b[0;34m(\u001b[0m\u001b[0;34m'cp949'\u001b[0m\u001b[0;34m)\u001b[0m\u001b[0;34m\u001b[0m\u001b[0m\n\u001b[0m",
      "\u001b[0;31mUnicodeDecodeError\u001b[0m: 'cp949' codec can't decode byte 0x80 in position 2: incomplete multibyte sequence"
     ]
    }
   ],
   "source": [
    "utf8_string.decode('cp949')"
   ]
  },
  {
   "cell_type": "code",
   "execution_count": 21,
   "metadata": {},
   "outputs": [
    {
     "data": {
      "text/plain": [
       "'나다라마바사아자차카타파'"
      ]
     },
     "execution_count": 21,
     "metadata": {},
     "output_type": "execute_result"
    }
   ],
   "source": [
    "'가나다라마바사아자차카타파하'[1:-1]"
   ]
  },
  {
   "cell_type": "code",
   "execution_count": 24,
   "metadata": {},
   "outputs": [
    {
     "ename": "UnicodeDecodeError",
     "evalue": "'utf-8' codec can't decode byte 0xb0 in position 0: invalid start byte",
     "output_type": "error",
     "traceback": [
      "\u001b[0;31m---------------------------------------------------------------------------\u001b[0m",
      "\u001b[0;31mUnicodeDecodeError\u001b[0m                        Traceback (most recent call last)",
      "\u001b[0;32m<ipython-input-24-38f25ac6a42b>\u001b[0m in \u001b[0;36m<module>\u001b[0;34m()\u001b[0m\n\u001b[0;32m----> 1\u001b[0;31m \u001b[0;34m'가나다라마바사아자차카타파하'\u001b[0m\u001b[0;34m.\u001b[0m\u001b[0mencode\u001b[0m\u001b[0;34m(\u001b[0m\u001b[0;34m'utf8'\u001b[0m\u001b[0;34m)\u001b[0m\u001b[0;34m[\u001b[0m\u001b[0;36m1\u001b[0m\u001b[0;34m:\u001b[0m\u001b[0;34m-\u001b[0m\u001b[0;36m1\u001b[0m\u001b[0;34m]\u001b[0m\u001b[0;34m.\u001b[0m\u001b[0mdecode\u001b[0m\u001b[0;34m(\u001b[0m\u001b[0;34m'utf8'\u001b[0m\u001b[0;34m)\u001b[0m\u001b[0;34m\u001b[0m\u001b[0m\n\u001b[0m",
      "\u001b[0;31mUnicodeDecodeError\u001b[0m: 'utf-8' codec can't decode byte 0xb0 in position 0: invalid start byte"
     ]
    }
   ],
   "source": [
    "'가나다라마바사아자차카타파하'.encode('utf8')[1:-1].decode('utf8')"
   ]
  },
  {
   "cell_type": "code",
   "execution_count": 25,
   "metadata": {
    "collapsed": true
   },
   "outputs": [],
   "source": [
    "s = '가나다라마바사아자차카타파하'         # str타입 (유니코드)\n",
    "utf8_string = s.encode('utf8')\n",
    "\n",
    "f = open('utf8_string.txt', 'wb')  # write + binary\n",
    "f.write(utf8_string)\n",
    "f.close()"
   ]
  },
  {
   "cell_type": "code",
   "execution_count": 28,
   "metadata": {},
   "outputs": [
    {
     "data": {
      "text/plain": [
       "'가나다라마바사아자차카타파하'"
      ]
     },
     "execution_count": 28,
     "metadata": {},
     "output_type": "execute_result"
    }
   ],
   "source": [
    "f = open('utf8_string.txt', 'rb')  # read + binary\n",
    "utf8_string = f.read()\n",
    "f.close()\n",
    "\n",
    "utf8_string.decode('utf8')  # utf8 -> unicode"
   ]
  },
  {
   "cell_type": "markdown",
   "metadata": {},
   "source": [
    "## open"
   ]
  },
  {
   "cell_type": "code",
   "execution_count": 32,
   "metadata": {},
   "outputs": [
    {
     "name": "stdout",
     "output_type": "stream",
     "text": [
      "가나다라마바사아자차카타파하\n"
     ]
    }
   ],
   "source": [
    "s = '가나다라마바사아자차카타파하'         # str타입 (유니코드)\n",
    "\n",
    "# f = open('utf8_string.txt', 'wb')  # write + binary\n",
    "# utf8_string = s.encode('utf8')\n",
    "# f.write(utf8_string)\n",
    "# f.close()\n",
    "\n",
    "f = open('utf8_string.txt', 'wt', encoding='utf8')  # write + binary\n",
    "f.write(s)\n",
    "f.close()\n",
    "\n",
    "f = open('utf8_string.txt', 'rt', encoding='utf8')\n",
    "unicode_string = f.read()\n",
    "print(unicode_string)   # str타입 (유니코드)\n",
    "f.close()"
   ]
  },
  {
   "cell_type": "code",
   "execution_count": 33,
   "metadata": {
    "collapsed": true
   },
   "outputs": [],
   "source": [
    "import requests"
   ]
  },
  {
   "cell_type": "code",
   "execution_count": 37,
   "metadata": {
    "collapsed": true
   },
   "outputs": [],
   "source": [
    "image_url = 'http://cfile7.uf.tistory.com/image/26117F3E581EA5550BDC79'\n",
    "\n",
    "image_data = requests.get(image_url).content\n",
    "\n",
    "# f = open('twice.jpg', 'wb')\n",
    "# f.write(image_data)\n",
    "# f.close()\n",
    "\n",
    "# open('twice.jpg', 'wb').write(image_data)"
   ]
  },
  {
   "cell_type": "code",
   "execution_count": 38,
   "metadata": {},
   "outputs": [
    {
     "data": {
      "text/plain": [
       "'UTF-8'"
      ]
     },
     "execution_count": 38,
     "metadata": {},
     "output_type": "execute_result"
    }
   ],
   "source": [
    "import locale\n",
    "locale.getpreferredencoding(False)"
   ]
  },
  {
   "cell_type": "code",
   "execution_count": 54,
   "metadata": {},
   "outputs": [
    {
     "name": "stdout",
     "output_type": "stream",
     "text": [
      "가나다라마바사아자차카타파하\n"
     ]
    },
    {
     "ename": "ZeroDivisionError",
     "evalue": "division by zero",
     "output_type": "error",
     "traceback": [
      "\u001b[0;31m---------------------------------------------------------------------------\u001b[0m",
      "\u001b[0;31mZeroDivisionError\u001b[0m                         Traceback (most recent call last)",
      "\u001b[0;32m<ipython-input-54-b52ac7d5c78c>\u001b[0m in \u001b[0;36m<module>\u001b[0;34m()\u001b[0m\n\u001b[1;32m     14\u001b[0m     \u001b[0;32mwith\u001b[0m \u001b[0mopen\u001b[0m\u001b[0;34m(\u001b[0m\u001b[0;34m'utf8_string.txt'\u001b[0m\u001b[0;34m,\u001b[0m \u001b[0;34m'rt'\u001b[0m\u001b[0;34m,\u001b[0m \u001b[0mencoding\u001b[0m\u001b[0;34m=\u001b[0m\u001b[0;34m'utf8'\u001b[0m\u001b[0;34m)\u001b[0m \u001b[0;32mas\u001b[0m \u001b[0mf\u001b[0m\u001b[0;34m:\u001b[0m\u001b[0;34m\u001b[0m\u001b[0m\n\u001b[1;32m     15\u001b[0m         \u001b[0mprint\u001b[0m\u001b[0;34m(\u001b[0m\u001b[0mf\u001b[0m\u001b[0;34m.\u001b[0m\u001b[0mread\u001b[0m\u001b[0;34m(\u001b[0m\u001b[0;34m)\u001b[0m\u001b[0;34m)\u001b[0m\u001b[0;34m\u001b[0m\u001b[0m\n\u001b[0;32m---> 16\u001b[0;31m         \u001b[0;36m1\u001b[0m\u001b[0;34m/\u001b[0m\u001b[0;36m0\u001b[0m\u001b[0;34m\u001b[0m\u001b[0m\n\u001b[0m\u001b[1;32m     17\u001b[0m \u001b[0;32mexcept\u001b[0m \u001b[0mIOError\u001b[0m\u001b[0;34m:\u001b[0m\u001b[0;34m\u001b[0m\u001b[0m\n\u001b[1;32m     18\u001b[0m     \u001b[0mprint\u001b[0m\u001b[0;34m(\u001b[0m\u001b[0;34m'파일을 찾을 수 없습니다.'\u001b[0m\u001b[0;34m)\u001b[0m\u001b[0;34m\u001b[0m\u001b[0m\n",
      "\u001b[0;31mZeroDivisionError\u001b[0m: division by zero"
     ]
    }
   ],
   "source": [
    "# FileNotFoundError -> IOError 계열\n",
    "\n",
    "# try:\n",
    "#     f = open('utf8_string.txt', 'rt', encoding='utf8')\n",
    "#     print(f.read())\n",
    "#     1/0\n",
    "# except IOError:\n",
    "#     print('파일을 찾을 수 없습니다.')\n",
    "# finally:\n",
    "#     print('close 합니다.')\n",
    "#     f.close()\n",
    "\n",
    "try:\n",
    "    with open('utf8_string.txt', 'rt', encoding='utf8') as f:\n",
    "        print(f.read())\n",
    "        1/0\n",
    "except IOError:\n",
    "    print('파일을 찾을 수 없습니다.')"
   ]
  },
  {
   "cell_type": "code",
   "execution_count": 50,
   "metadata": {
    "collapsed": true
   },
   "outputs": [],
   "source": [
    "import os\n",
    "from datetime import datetime\n",
    "\n",
    "filepath = datetime.now().strftime('logs/%Y/%m/%d') + '/' + 'hello.txt'\n",
    "# filepath = 'dir1/dir2/dir3/hello.txt'\n",
    "\n",
    "dirpath = os.path.dirname(filepath)  # 'dir1/dir2/dir3'\n",
    "if not os.path.exists(dirpath):\n",
    "    os.makedirs(dirpath)\n",
    "\n",
    "f = open(filepath, 'wt', encoding='utf8')\n",
    "f.write('가나다')\n",
    "f.close()"
   ]
  },
  {
   "cell_type": "markdown",
   "metadata": {},
   "source": [
    "## 인코딩 탐지하기"
   ]
  },
  {
   "cell_type": "code",
   "execution_count": 29,
   "metadata": {},
   "outputs": [
    {
     "data": {
      "text/plain": [
       "{'confidence': 0.99, 'encoding': 'utf-8', 'language': ''}"
      ]
     },
     "execution_count": 29,
     "metadata": {},
     "output_type": "execute_result"
    }
   ],
   "source": [
    "import chardet\n",
    "\n",
    "chardet.detect(utf8_string)"
   ]
  },
  {
   "cell_type": "code",
   "execution_count": 30,
   "metadata": {},
   "outputs": [
    {
     "data": {
      "text/plain": [
       "{'confidence': 0.99, 'encoding': 'EUC-KR', 'language': 'Korean'}"
      ]
     },
     "execution_count": 30,
     "metadata": {},
     "output_type": "execute_result"
    }
   ],
   "source": [
    "cp949_string = s.encode('cp949')\n",
    "chardet.detect(cp949_string)"
   ]
  },
  {
   "cell_type": "code",
   "execution_count": null,
   "metadata": {
    "collapsed": true
   },
   "outputs": [],
   "source": [
    "# 메모장을 여시고, 메모장에서 \"가나다라마바사아자차카타파하\" 를 입력하고,\n",
    "# c:\\dev 디렉토리에 저장\n",
    "\n",
    "f = open('메모장.txt', 'rb')\n",
    "data = f.read()\n",
    "f.close()\n",
    "\n",
    "data.decode('???')  # utf8, cp949"
   ]
  },
  {
   "cell_type": "markdown",
   "metadata": {},
   "source": [
    "## 순회가능한 객체"
   ]
  },
  {
   "cell_type": "code",
   "execution_count": 55,
   "metadata": {
    "collapsed": true
   },
   "outputs": [],
   "source": [
    "가사 = '''내 몸이 확\n",
    "머리가 휙\n",
    "돌아가 어때\n",
    "지금 기분이\n",
    "우리는 마치\n",
    "자석 같아\n",
    "서로를 안고\n",
    "또 밀쳐내니까\n",
    "너는 날 미치게 하고\n",
    "정신 못 차리게 해\n",
    "그래 알겠지 넌 참\n",
    "날 기가 막히게 해\n",
    "너는 날 춤추게 하고\n",
    "술 없이 취하게 해\n",
    "그래 알겠지 넌 참\n",
    "착한 날 독하게 해\n",
    "우리 둘만의\n",
    "이 영화에\n",
    "진짜 주인공은 너였어 baby\n",
    "그래 넌 오늘도 너답게\n",
    "화려한 주인공처럼\n",
    "그저 하던 대로 해\n",
    "그게 악역이라도\n",
    "나를 슬프게 해도\n",
    "넌 너여야만 해\n",
    "내가 아플지라도\n",
    "슬픈 엔딩이라도\n",
    "the show must go on\n",
    "the show must go on\n",
    "너는 늘 끝장을 보고\n",
    "모든 걸 덮으려 해\n",
    "왜 날개를 달아주고\n",
    "추락하자 해\n",
    "너는 늘 착하지 라며\n",
    "날 눈물 삼키게 하잖아\n",
    "그래 알겠지 알겠지\n",
    "넌 날 혹하게 해\n",
    "우리 둘만의\n",
    "이 드라마에\n",
    "진짜 주인공은 너였어 baby\n",
    "그래 넌 오늘도 너답게\n",
    "화려한 주인공처럼\n",
    "그저 하던 대로 해\n",
    "그게 악역이라도\n",
    "나를 슬프게 해도\n",
    "넌 너여야만 해\n",
    "내가 아플지라도\n",
    "슬픈 엔딩이라도\n",
    "the show must go on\n",
    "the show must go on\n",
    "그저 하던 대로 해\n",
    "그게 악역이라도\n",
    "나를 슬프게 해도\n",
    "넌 너여야만 해\n",
    "내가 아플지라도\n",
    "슬픈 엔딩이라도\n",
    "the show must go on\n",
    "the show must go on\n",
    "you must go on'''"
   ]
  },
  {
   "cell_type": "code",
   "execution_count": 56,
   "metadata": {
    "collapsed": true
   },
   "outputs": [],
   "source": [
    "with open('가사.txt', 'wt', encoding='utf8') as f:\n",
    "    f.write(가사)"
   ]
  },
  {
   "cell_type": "code",
   "execution_count": 62,
   "metadata": {},
   "outputs": [
    {
     "name": "stdout",
     "output_type": "stream",
     "text": [
      "#내 몸이 확\n",
      "#머리가 휙\n",
      "#돌아가 어때\n",
      "#지금 기분이\n",
      "#우리는 마치\n",
      "#자석 같아\n",
      "#서로를 안고\n",
      "#또 밀쳐내니까\n",
      "#너는 날 미치게 하고\n",
      "#정신 못 차리게 해\n",
      "#그래 알겠지 넌 참\n",
      "#날 기가 막히게 해\n",
      "#너는 날 춤추게 하고\n",
      "#술 없이 취하게 해\n",
      "#그래 알겠지 넌 참\n",
      "#착한 날 독하게 해\n",
      "#우리 둘만의\n",
      "#이 영화에\n",
      "#진짜 주인공은 너였어 baby\n",
      "#그래 넌 오늘도 너답게\n",
      "#화려한 주인공처럼\n",
      "#그저 하던 대로 해\n",
      "#그게 악역이라도\n",
      "#나를 슬프게 해도\n",
      "#넌 너여야만 해\n",
      "#내가 아플지라도\n",
      "#슬픈 엔딩이라도\n",
      "#the show must go on\n",
      "#the show must go on\n",
      "#너는 늘 끝장을 보고\n",
      "#모든 걸 덮으려 해\n",
      "#왜 날개를 달아주고\n",
      "#추락하자 해\n",
      "#너는 늘 착하지 라며\n",
      "#날 눈물 삼키게 하잖아\n",
      "#그래 알겠지 알겠지\n",
      "#넌 날 혹하게 해\n",
      "#우리 둘만의\n",
      "#이 드라마에\n",
      "#진짜 주인공은 너였어 baby\n",
      "#그래 넌 오늘도 너답게\n",
      "#화려한 주인공처럼\n",
      "#그저 하던 대로 해\n",
      "#그게 악역이라도\n",
      "#나를 슬프게 해도\n",
      "#넌 너여야만 해\n",
      "#내가 아플지라도\n",
      "#슬픈 엔딩이라도\n",
      "#the show must go on\n",
      "#the show must go on\n",
      "#그저 하던 대로 해\n",
      "#그게 악역이라도\n",
      "#나를 슬프게 해도\n",
      "#넌 너여야만 해\n",
      "#내가 아플지라도\n",
      "#슬픈 엔딩이라도\n",
      "#the show must go on\n",
      "#the show must go on\n",
      "#you must go on\n"
     ]
    }
   ],
   "source": [
    "with open('가사.txt', 'rt', encoding='utf8') as f:\n",
    "    # print(f.read())  # 파일 전체 내용 읽기\n",
    "#     for line in f.read().splitlines():\n",
    "#         print(line)\n",
    "    \n",
    "    for line in f:\n",
    "        print('#' + line.strip())  # 좌/우 화이트스페이스 제거"
   ]
  },
  {
   "cell_type": "markdown",
   "metadata": {},
   "source": [
    "## 재미로 해보는 크롤링 (네이버 웹툰 이미지 다운로드)"
   ]
  },
  {
   "cell_type": "markdown",
   "metadata": {},
   "source": [
    "아래 코드를 실행 전에 다음 2개 라이브러리가 필요합니다.\n",
    "\n",
    "```\n",
    "pip install requests beautifulsoup4\n",
    "```"
   ]
  },
  {
   "cell_type": "code",
   "execution_count": null,
   "metadata": {
    "collapsed": true
   },
   "outputs": [],
   "source": [
    "import os\n",
    "import requests\n",
    "from bs4 import BeautifulSoup\n",
    "\n",
    "# 이미지를 가져오고 싶은, 웹툰의 특정 에피소드 주소를 지정해주세요.\n",
    "ep_url = 'http://comic.naver.com/webtoon/detail.nhn?titleId=662774&no=118&weekday=wed'\n",
    "\n",
    "res = requests.get(ep_url)\n",
    "html = res.text\n",
    "\n",
    "soup = BeautifulSoup(html, 'html.parser')\n",
    "\n",
    "for tag in soup.select('.view_area img'):\n",
    "    img_url = tag.get('src')  # ''\n",
    "    if img_url:\n",
    "        headers = {'Referer': ep_url}\n",
    "        res = requests.get(img_url, headers=headers)\n",
    "        img_data = res.content\n",
    "        img_name = os.path.basename(img_url)  # url로부터 끝의 파일명을 뽑아냅니다.\n",
    "\n",
    "        print('다운받는 중 ... ', img_name)\n",
    "\n",
    "        img_path = '고수/' + img_name\n",
    "        img_dirpath = os.path.dirname(img_path)\n",
    "        if not os.path.exists(img_dirpath):\n",
    "            os.makedirs(img_dirpath)\n",
    "\n",
    "        with open(img_path, 'wb') as f:\n",
    "            f.write(img_data)"
   ]
  },
  {
   "cell_type": "code",
   "execution_count": 69,
   "metadata": {
    "collapsed": true
   },
   "outputs": [],
   "source": [
    "평점 = {}"
   ]
  },
  {
   "cell_type": "code",
   "execution_count": 70,
   "metadata": {
    "collapsed": true
   },
   "outputs": [],
   "source": [
    "평점['고수'] = 9.5"
   ]
  },
  {
   "cell_type": "code",
   "execution_count": 71,
   "metadata": {},
   "outputs": [
    {
     "data": {
      "text/plain": [
       "{'고수': 9.5}"
      ]
     },
     "execution_count": 71,
     "metadata": {},
     "output_type": "execute_result"
    }
   ],
   "source": [
    "평점"
   ]
  },
  {
   "cell_type": "code",
   "execution_count": 72,
   "metadata": {},
   "outputs": [
    {
     "data": {
      "text/plain": [
       "False"
      ]
     },
     "execution_count": 72,
     "metadata": {},
     "output_type": "execute_result"
    }
   ],
   "source": [
    "'신과함께' in 평점"
   ]
  },
  {
   "cell_type": "code",
   "execution_count": 73,
   "metadata": {},
   "outputs": [
    {
     "ename": "KeyError",
     "evalue": "'신과함께'",
     "output_type": "error",
     "traceback": [
      "\u001b[0;31m---------------------------------------------------------------------------\u001b[0m",
      "\u001b[0;31mKeyError\u001b[0m                                  Traceback (most recent call last)",
      "\u001b[0;32m<ipython-input-73-cee7d72fff02>\u001b[0m in \u001b[0;36m<module>\u001b[0;34m()\u001b[0m\n\u001b[0;32m----> 1\u001b[0;31m \u001b[0m평점\u001b[0m\u001b[0;34m[\u001b[0m\u001b[0;34m'신과함께'\u001b[0m\u001b[0;34m]\u001b[0m\u001b[0;34m\u001b[0m\u001b[0m\n\u001b[0m",
      "\u001b[0;31mKeyError\u001b[0m: '신과함께'"
     ]
    }
   ],
   "source": [
    "평점['신과함께']"
   ]
  },
  {
   "cell_type": "code",
   "execution_count": 74,
   "metadata": {},
   "outputs": [
    {
     "data": {
      "text/plain": [
       "9.5"
      ]
     },
     "execution_count": 74,
     "metadata": {},
     "output_type": "execute_result"
    }
   ],
   "source": [
    "평점['고수']"
   ]
  },
  {
   "cell_type": "code",
   "execution_count": 75,
   "metadata": {},
   "outputs": [
    {
     "data": {
      "text/plain": [
       "9.5"
      ]
     },
     "execution_count": 75,
     "metadata": {},
     "output_type": "execute_result"
    }
   ],
   "source": [
    "평점.get('고수')"
   ]
  },
  {
   "cell_type": "code",
   "execution_count": 77,
   "metadata": {},
   "outputs": [
    {
     "name": "stdout",
     "output_type": "stream",
     "text": [
      "None\n"
     ]
    }
   ],
   "source": [
    "print(평점.get('신과함께'))"
   ]
  },
  {
   "cell_type": "markdown",
   "metadata": {},
   "source": [
    "## 직렬화"
   ]
  },
  {
   "cell_type": "code",
   "execution_count": 78,
   "metadata": {
    "collapsed": true
   },
   "outputs": [],
   "source": [
    "obj = {'name': 'AskDjango', 'since': 2015}"
   ]
  },
  {
   "cell_type": "code",
   "execution_count": 80,
   "metadata": {},
   "outputs": [],
   "source": [
    "import json\n",
    "\n",
    "json_string = json.dumps(obj)  # str을 반환 (유니코드)\n",
    "\n",
    "with open(\"obj.json\", \"wt\", encoding=\"utf8\") as f:\n",
    "    f.write(json_string)"
   ]
  },
  {
   "cell_type": "code",
   "execution_count": 88,
   "metadata": {},
   "outputs": [
    {
     "name": "stdout",
     "output_type": "stream",
     "text": [
      "dict_keys(['name', 'since'])\n",
      "AskDjango 2015\n"
     ]
    }
   ],
   "source": [
    "with open(\"obj.json\", \"rt\", encoding=\"utf8\") as f:\n",
    "    json_string = f.read()\n",
    "    obj = json.loads(json_string)  # obj\n",
    "    print(obj.keys())\n",
    "    print(obj['name'], obj['since'])"
   ]
  },
  {
   "cell_type": "code",
   "execution_count": 89,
   "metadata": {},
   "outputs": [
    {
     "data": {
      "text/plain": [
       "[['원더', 9.41],\n",
       " ['위대한 쇼맨', 9.39],\n",
       " ['아이 캔 스피크', 9.34],\n",
       " ['1987', 9.28],\n",
       " ['러빙 빈센트', 9.19],\n",
       " ['뽀로로 극장판 공룡섬 대모험', 9.17],\n",
       " ['내 사랑', 9.17],\n",
       " ['코코', 9.16],\n",
       " ['히트', 9.11],\n",
       " ['이터널 선샤인', 9.1]]"
      ]
     },
     "execution_count": 89,
     "metadata": {},
     "output_type": "execute_result"
    }
   ],
   "source": [
    "movies = [\n",
    "    [\"원더\", 9.41],\n",
    "    [\"위대한 쇼맨\", 9.39],\n",
    "    [\"아이 캔 스피크\", 9.34],\n",
    "    [\"1987\", 9.28],\n",
    "    [\"러빙 빈센트\", 9.19],\n",
    "    [\"뽀로로 극장판 공룡섬 대모험\", 9.17],\n",
    "    [\"내 사랑\", 9.17],\n",
    "    [\"코코\", 9.16],\n",
    "    [\"히트\", 9.11],\n",
    "    [\"이터널 선샤인\", 9.10],\n",
    "]\n",
    "movies"
   ]
  },
  {
   "cell_type": "code",
   "execution_count": 99,
   "metadata": {},
   "outputs": [],
   "source": [
    "import csv\n",
    "\n",
    "with open(\"영화평점.csv\", \"wt\", encoding=\"cp949\", newline='\\n') as f:\n",
    "    writer = csv.writer(f)\n",
    "\n",
    "#     for i in range(10):\n",
    "#         writer.writerow(['원더', 9.41])\n",
    "#         writer.writerow(['위대한 쇼맨', 9.39])\n",
    "\n",
    "#     for movie in movies:\n",
    "#         writer.writerow(movie)\n",
    "\n",
    "    writer.writerows(movies)"
   ]
  },
  {
   "cell_type": "code",
   "execution_count": null,
   "metadata": {
    "collapsed": true
   },
   "outputs": [],
   "source": []
  }
 ],
 "metadata": {
  "kernelspec": {
   "display_name": "Python 3",
   "language": "python",
   "name": "python3"
  },
  "language_info": {
   "codemirror_mode": {
    "name": "ipython",
    "version": 3
   },
   "file_extension": ".py",
   "mimetype": "text/x-python",
   "name": "python",
   "nbconvert_exporter": "python",
   "pygments_lexer": "ipython3",
   "version": "3.6.3"
  }
 },
 "nbformat": 4,
 "nbformat_minor": 2
}
