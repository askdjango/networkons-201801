{
 "cells": [
  {
   "cell_type": "code",
   "execution_count": 1,
   "metadata": {
    "collapsed": true
   },
   "outputs": [],
   "source": [
    "import datetime"
   ]
  },
  {
   "cell_type": "code",
   "execution_count": 3,
   "metadata": {},
   "outputs": [
    {
     "data": {
      "text/plain": [
       "datetime.datetime(2018, 1, 25, 9, 43, 24, 35391)"
      ]
     },
     "execution_count": 3,
     "metadata": {},
     "output_type": "execute_result"
    }
   ],
   "source": [
    "now = datetime.datetime.now()\n",
    "now"
   ]
  },
  {
   "cell_type": "code",
   "execution_count": 10,
   "metadata": {},
   "outputs": [
    {
     "data": {
      "text/plain": [
       "'2018-01-25 09:43:24'"
      ]
     },
     "execution_count": 10,
     "metadata": {},
     "output_type": "execute_result"
    }
   ],
   "source": [
    "now.strftime('%Y-%m-%d %H:%M:%S')"
   ]
  },
  {
   "cell_type": "code",
   "execution_count": 9,
   "metadata": {},
   "outputs": [
    {
     "data": {
      "text/plain": [
       "'/Users/allieus/anaconda3/lib/python3.6/datetime.py'"
      ]
     },
     "execution_count": 9,
     "metadata": {},
     "output_type": "execute_result"
    }
   ],
   "source": [
    "datetime.__file__"
   ]
  },
  {
   "cell_type": "code",
   "execution_count": 11,
   "metadata": {
    "collapsed": true
   },
   "outputs": [],
   "source": [
    "from datetime import datetime"
   ]
  },
  {
   "cell_type": "code",
   "execution_count": 12,
   "metadata": {},
   "outputs": [
    {
     "data": {
      "text/plain": [
       "datetime.datetime(2018, 1, 25, 9, 52, 41, 736784)"
      ]
     },
     "execution_count": 12,
     "metadata": {},
     "output_type": "execute_result"
    }
   ],
   "source": [
    "datetime.now()"
   ]
  },
  {
   "cell_type": "markdown",
   "metadata": {},
   "source": [
    "## 인코딩"
   ]
  },
  {
   "cell_type": "code",
   "execution_count": 13,
   "metadata": {
    "collapsed": true
   },
   "outputs": [],
   "source": [
    "unicode_string = '가'"
   ]
  },
  {
   "cell_type": "code",
   "execution_count": 14,
   "metadata": {},
   "outputs": [
    {
     "data": {
      "text/plain": [
       "b'\\xea\\xb0\\x80'"
      ]
     },
     "execution_count": 14,
     "metadata": {},
     "output_type": "execute_result"
    }
   ],
   "source": [
    "unicode_string.encode('utf8')"
   ]
  },
  {
   "cell_type": "code",
   "execution_count": 15,
   "metadata": {},
   "outputs": [
    {
     "data": {
      "text/plain": [
       "b'\\xb0\\xa1'"
      ]
     },
     "execution_count": 15,
     "metadata": {},
     "output_type": "execute_result"
    }
   ],
   "source": [
    "unicode_string.encode('cp949')"
   ]
  },
  {
   "cell_type": "code",
   "execution_count": 16,
   "metadata": {},
   "outputs": [
    {
     "data": {
      "text/plain": [
       "b'\\xff\\xfe\\x00\\xac'"
      ]
     },
     "execution_count": 16,
     "metadata": {},
     "output_type": "execute_result"
    }
   ],
   "source": [
    "unicode_string.encode('utf16')"
   ]
  },
  {
   "cell_type": "code",
   "execution_count": 17,
   "metadata": {},
   "outputs": [
    {
     "data": {
      "text/plain": [
       "b'\\xff\\xfe\\x00\\x00\\x00\\xac\\x00\\x00'"
      ]
     },
     "execution_count": 17,
     "metadata": {},
     "output_type": "execute_result"
    }
   ],
   "source": [
    "unicode_string.encode('utf32')"
   ]
  },
  {
   "cell_type": "code",
   "execution_count": 18,
   "metadata": {},
   "outputs": [
    {
     "data": {
      "text/plain": [
       "b'\\xea\\xb0\\x80'"
      ]
     },
     "execution_count": 18,
     "metadata": {},
     "output_type": "execute_result"
    }
   ],
   "source": [
    "utf8_string = unicode_string.encode('utf8')\n",
    "utf8_string"
   ]
  },
  {
   "cell_type": "code",
   "execution_count": 19,
   "metadata": {},
   "outputs": [
    {
     "data": {
      "text/plain": [
       "'가'"
      ]
     },
     "execution_count": 19,
     "metadata": {},
     "output_type": "execute_result"
    }
   ],
   "source": [
    "utf8_string.decode('utf8')"
   ]
  },
  {
   "cell_type": "code",
   "execution_count": 20,
   "metadata": {},
   "outputs": [
    {
     "ename": "UnicodeDecodeError",
     "evalue": "'cp949' codec can't decode byte 0x80 in position 2: incomplete multibyte sequence",
     "output_type": "error",
     "traceback": [
      "\u001b[0;31m---------------------------------------------------------------------------\u001b[0m",
      "\u001b[0;31mUnicodeDecodeError\u001b[0m                        Traceback (most recent call last)",
      "\u001b[0;32m<ipython-input-20-60100cdf68a5>\u001b[0m in \u001b[0;36m<module>\u001b[0;34m()\u001b[0m\n\u001b[0;32m----> 1\u001b[0;31m \u001b[0mutf8_string\u001b[0m\u001b[0;34m.\u001b[0m\u001b[0mdecode\u001b[0m\u001b[0;34m(\u001b[0m\u001b[0;34m'cp949'\u001b[0m\u001b[0;34m)\u001b[0m\u001b[0;34m\u001b[0m\u001b[0m\n\u001b[0m",
      "\u001b[0;31mUnicodeDecodeError\u001b[0m: 'cp949' codec can't decode byte 0x80 in position 2: incomplete multibyte sequence"
     ]
    }
   ],
   "source": [
    "utf8_string.decode('cp949')"
   ]
  },
  {
   "cell_type": "code",
   "execution_count": 21,
   "metadata": {},
   "outputs": [
    {
     "data": {
      "text/plain": [
       "'나다라마바사아자차카타파'"
      ]
     },
     "execution_count": 21,
     "metadata": {},
     "output_type": "execute_result"
    }
   ],
   "source": [
    "'가나다라마바사아자차카타파하'[1:-1]"
   ]
  },
  {
   "cell_type": "code",
   "execution_count": 24,
   "metadata": {},
   "outputs": [
    {
     "ename": "UnicodeDecodeError",
     "evalue": "'utf-8' codec can't decode byte 0xb0 in position 0: invalid start byte",
     "output_type": "error",
     "traceback": [
      "\u001b[0;31m---------------------------------------------------------------------------\u001b[0m",
      "\u001b[0;31mUnicodeDecodeError\u001b[0m                        Traceback (most recent call last)",
      "\u001b[0;32m<ipython-input-24-38f25ac6a42b>\u001b[0m in \u001b[0;36m<module>\u001b[0;34m()\u001b[0m\n\u001b[0;32m----> 1\u001b[0;31m \u001b[0;34m'가나다라마바사아자차카타파하'\u001b[0m\u001b[0;34m.\u001b[0m\u001b[0mencode\u001b[0m\u001b[0;34m(\u001b[0m\u001b[0;34m'utf8'\u001b[0m\u001b[0;34m)\u001b[0m\u001b[0;34m[\u001b[0m\u001b[0;36m1\u001b[0m\u001b[0;34m:\u001b[0m\u001b[0;34m-\u001b[0m\u001b[0;36m1\u001b[0m\u001b[0;34m]\u001b[0m\u001b[0;34m.\u001b[0m\u001b[0mdecode\u001b[0m\u001b[0;34m(\u001b[0m\u001b[0;34m'utf8'\u001b[0m\u001b[0;34m)\u001b[0m\u001b[0;34m\u001b[0m\u001b[0m\n\u001b[0m",
      "\u001b[0;31mUnicodeDecodeError\u001b[0m: 'utf-8' codec can't decode byte 0xb0 in position 0: invalid start byte"
     ]
    }
   ],
   "source": [
    "'가나다라마바사아자차카타파하'.encode('utf8')[1:-1].decode('utf8')"
   ]
  },
  {
   "cell_type": "code",
   "execution_count": 25,
   "metadata": {
    "collapsed": true
   },
   "outputs": [],
   "source": [
    "s = '가나다라마바사아자차카타파하'         # str타입 (유니코드)\n",
    "utf8_string = s.encode('utf8')\n",
    "\n",
    "f = open('utf8_string.txt', 'wb')  # write + binary\n",
    "f.write(utf8_string)\n",
    "f.close()"
   ]
  },
  {
   "cell_type": "code",
   "execution_count": 28,
   "metadata": {},
   "outputs": [
    {
     "data": {
      "text/plain": [
       "'가나다라마바사아자차카타파하'"
      ]
     },
     "execution_count": 28,
     "metadata": {},
     "output_type": "execute_result"
    }
   ],
   "source": [
    "f = open('utf8_string.txt', 'rb')  # read + binary\n",
    "utf8_string = f.read()\n",
    "f.close()\n",
    "\n",
    "utf8_string.decode('utf8')  # utf8 -> unicode"
   ]
  },
  {
   "cell_type": "markdown",
   "metadata": {},
   "source": [
    "## open"
   ]
  },
  {
   "cell_type": "code",
   "execution_count": 32,
   "metadata": {},
   "outputs": [
    {
     "name": "stdout",
     "output_type": "stream",
     "text": [
      "가나다라마바사아자차카타파하\n"
     ]
    }
   ],
   "source": [
    "s = '가나다라마바사아자차카타파하'         # str타입 (유니코드)\n",
    "\n",
    "# f = open('utf8_string.txt', 'wb')  # write + binary\n",
    "# utf8_string = s.encode('utf8')\n",
    "# f.write(utf8_string)\n",
    "# f.close()\n",
    "\n",
    "f = open('utf8_string.txt', 'wt', encoding='utf8')  # write + binary\n",
    "f.write(s)\n",
    "f.close()\n",
    "\n",
    "f = open('utf8_string.txt', 'rt', encoding='utf8')\n",
    "unicode_string = f.read()\n",
    "print(unicode_string)   # str타입 (유니코드)\n",
    "f.close()"
   ]
  },
  {
   "cell_type": "code",
   "execution_count": 33,
   "metadata": {
    "collapsed": true
   },
   "outputs": [],
   "source": [
    "import requests"
   ]
  },
  {
   "cell_type": "code",
   "execution_count": 37,
   "metadata": {},
   "outputs": [],
   "source": [
    "image_url = 'http://cfile7.uf.tistory.com/image/26117F3E581EA5550BDC79'\n",
    "\n",
    "image_data = requests.get(image_url).content\n",
    "\n",
    "# f = open('twice.jpg', 'wb')\n",
    "# f.write(image_data)\n",
    "# f.close()\n",
    "\n",
    "# open('twice.jpg', 'wb').write(image_data)"
   ]
  },
  {
   "cell_type": "code",
   "execution_count": 38,
   "metadata": {},
   "outputs": [
    {
     "data": {
      "text/plain": [
       "'UTF-8'"
      ]
     },
     "execution_count": 38,
     "metadata": {},
     "output_type": "execute_result"
    }
   ],
   "source": [
    "import locale\n",
    "locale.getpreferredencoding(False)"
   ]
  },
  {
   "cell_type": "code",
   "execution_count": 54,
   "metadata": {},
   "outputs": [
    {
     "name": "stdout",
     "output_type": "stream",
     "text": [
      "가나다라마바사아자차카타파하\n"
     ]
    },
    {
     "ename": "ZeroDivisionError",
     "evalue": "division by zero",
     "output_type": "error",
     "traceback": [
      "\u001b[0;31m---------------------------------------------------------------------------\u001b[0m",
      "\u001b[0;31mZeroDivisionError\u001b[0m                         Traceback (most recent call last)",
      "\u001b[0;32m<ipython-input-54-b52ac7d5c78c>\u001b[0m in \u001b[0;36m<module>\u001b[0;34m()\u001b[0m\n\u001b[1;32m     14\u001b[0m     \u001b[0;32mwith\u001b[0m \u001b[0mopen\u001b[0m\u001b[0;34m(\u001b[0m\u001b[0;34m'utf8_string.txt'\u001b[0m\u001b[0;34m,\u001b[0m \u001b[0;34m'rt'\u001b[0m\u001b[0;34m,\u001b[0m \u001b[0mencoding\u001b[0m\u001b[0;34m=\u001b[0m\u001b[0;34m'utf8'\u001b[0m\u001b[0;34m)\u001b[0m \u001b[0;32mas\u001b[0m \u001b[0mf\u001b[0m\u001b[0;34m:\u001b[0m\u001b[0;34m\u001b[0m\u001b[0m\n\u001b[1;32m     15\u001b[0m         \u001b[0mprint\u001b[0m\u001b[0;34m(\u001b[0m\u001b[0mf\u001b[0m\u001b[0;34m.\u001b[0m\u001b[0mread\u001b[0m\u001b[0;34m(\u001b[0m\u001b[0;34m)\u001b[0m\u001b[0;34m)\u001b[0m\u001b[0;34m\u001b[0m\u001b[0m\n\u001b[0;32m---> 16\u001b[0;31m         \u001b[0;36m1\u001b[0m\u001b[0;34m/\u001b[0m\u001b[0;36m0\u001b[0m\u001b[0;34m\u001b[0m\u001b[0m\n\u001b[0m\u001b[1;32m     17\u001b[0m \u001b[0;32mexcept\u001b[0m \u001b[0mIOError\u001b[0m\u001b[0;34m:\u001b[0m\u001b[0;34m\u001b[0m\u001b[0m\n\u001b[1;32m     18\u001b[0m     \u001b[0mprint\u001b[0m\u001b[0;34m(\u001b[0m\u001b[0;34m'파일을 찾을 수 없습니다.'\u001b[0m\u001b[0;34m)\u001b[0m\u001b[0;34m\u001b[0m\u001b[0m\n",
      "\u001b[0;31mZeroDivisionError\u001b[0m: division by zero"
     ]
    }
   ],
   "source": [
    "# FileNotFoundError -> IOError 계열\n",
    "\n",
    "# try:\n",
    "#     f = open('utf8_string.txt', 'rt', encoding='utf8')\n",
    "#     print(f.read())\n",
    "#     1/0\n",
    "# except IOError:\n",
    "#     print('파일을 찾을 수 없습니다.')\n",
    "# finally:\n",
    "#     print('close 합니다.')\n",
    "#     f.close()\n",
    "\n",
    "try:\n",
    "    with open('utf8_string.txt', 'rt', encoding='utf8') as f:\n",
    "        print(f.read())\n",
    "        1/0\n",
    "except IOError:\n",
    "    print('파일을 찾을 수 없습니다.')"
   ]
  },
  {
   "cell_type": "code",
   "execution_count": 50,
   "metadata": {},
   "outputs": [],
   "source": [
    "import os\n",
    "from datetime import datetime\n",
    "\n",
    "filepath = datetime.now().strftime('logs/%Y/%m/%d') + '/' + 'hello.txt'\n",
    "# filepath = 'dir1/dir2/dir3/hello.txt'\n",
    "\n",
    "dirpath = os.path.dirname(filepath)  # 'dir1/dir2/dir3'\n",
    "if not os.path.exists(dirpath):\n",
    "    os.makedirs(dirpath)\n",
    "\n",
    "f = open(filepath, 'wt', encoding='utf8')\n",
    "f.write('가나다')\n",
    "f.close()"
   ]
  },
  {
   "cell_type": "markdown",
   "metadata": {},
   "source": [
    "## 인코딩 탐지하기"
   ]
  },
  {
   "cell_type": "code",
   "execution_count": 29,
   "metadata": {},
   "outputs": [
    {
     "data": {
      "text/plain": [
       "{'confidence': 0.99, 'encoding': 'utf-8', 'language': ''}"
      ]
     },
     "execution_count": 29,
     "metadata": {},
     "output_type": "execute_result"
    }
   ],
   "source": [
    "import chardet\n",
    "\n",
    "chardet.detect(utf8_string)"
   ]
  },
  {
   "cell_type": "code",
   "execution_count": 30,
   "metadata": {},
   "outputs": [
    {
     "data": {
      "text/plain": [
       "{'confidence': 0.99, 'encoding': 'EUC-KR', 'language': 'Korean'}"
      ]
     },
     "execution_count": 30,
     "metadata": {},
     "output_type": "execute_result"
    }
   ],
   "source": [
    "cp949_string = s.encode('cp949')\n",
    "chardet.detect(cp949_string)"
   ]
  },
  {
   "cell_type": "code",
   "execution_count": null,
   "metadata": {
    "collapsed": true
   },
   "outputs": [],
   "source": [
    "# 메모장을 여시고, 메모장에서 \"가나다라마바사아자차카타파하\" 를 입력하고,\n",
    "# c:\\dev 디렉토리에 저장\n",
    "\n",
    "f = open('메모장.txt', 'rb')\n",
    "data = f.read()\n",
    "f.close()\n",
    "\n",
    "data.decode('???')  # utf8, cp949"
   ]
  },
  {
   "cell_type": "markdown",
   "metadata": {},
   "source": [
    "## 순회가능한 객체"
   ]
  },
  {
   "cell_type": "code",
   "execution_count": 55,
   "metadata": {
    "collapsed": true
   },
   "outputs": [],
   "source": [
    "가사 = '''내 몸이 확\n",
    "머리가 휙\n",
    "돌아가 어때\n",
    "지금 기분이\n",
    "우리는 마치\n",
    "자석 같아\n",
    "서로를 안고\n",
    "또 밀쳐내니까\n",
    "너는 날 미치게 하고\n",
    "정신 못 차리게 해\n",
    "그래 알겠지 넌 참\n",
    "날 기가 막히게 해\n",
    "너는 날 춤추게 하고\n",
    "술 없이 취하게 해\n",
    "그래 알겠지 넌 참\n",
    "착한 날 독하게 해\n",
    "우리 둘만의\n",
    "이 영화에\n",
    "진짜 주인공은 너였어 baby\n",
    "그래 넌 오늘도 너답게\n",
    "화려한 주인공처럼\n",
    "그저 하던 대로 해\n",
    "그게 악역이라도\n",
    "나를 슬프게 해도\n",
    "넌 너여야만 해\n",
    "내가 아플지라도\n",
    "슬픈 엔딩이라도\n",
    "the show must go on\n",
    "the show must go on\n",
    "너는 늘 끝장을 보고\n",
    "모든 걸 덮으려 해\n",
    "왜 날개를 달아주고\n",
    "추락하자 해\n",
    "너는 늘 착하지 라며\n",
    "날 눈물 삼키게 하잖아\n",
    "그래 알겠지 알겠지\n",
    "넌 날 혹하게 해\n",
    "우리 둘만의\n",
    "이 드라마에\n",
    "진짜 주인공은 너였어 baby\n",
    "그래 넌 오늘도 너답게\n",
    "화려한 주인공처럼\n",
    "그저 하던 대로 해\n",
    "그게 악역이라도\n",
    "나를 슬프게 해도\n",
    "넌 너여야만 해\n",
    "내가 아플지라도\n",
    "슬픈 엔딩이라도\n",
    "the show must go on\n",
    "the show must go on\n",
    "그저 하던 대로 해\n",
    "그게 악역이라도\n",
    "나를 슬프게 해도\n",
    "넌 너여야만 해\n",
    "내가 아플지라도\n",
    "슬픈 엔딩이라도\n",
    "the show must go on\n",
    "the show must go on\n",
    "you must go on'''"
   ]
  },
  {
   "cell_type": "code",
   "execution_count": 56,
   "metadata": {
    "collapsed": true
   },
   "outputs": [],
   "source": [
    "with open('가사.txt', 'wt', encoding='utf8') as f:\n",
    "    f.write(가사)"
   ]
  },
  {
   "cell_type": "code",
   "execution_count": 62,
   "metadata": {},
   "outputs": [
    {
     "name": "stdout",
     "output_type": "stream",
     "text": [
      "#내 몸이 확\n",
      "#머리가 휙\n",
      "#돌아가 어때\n",
      "#지금 기분이\n",
      "#우리는 마치\n",
      "#자석 같아\n",
      "#서로를 안고\n",
      "#또 밀쳐내니까\n",
      "#너는 날 미치게 하고\n",
      "#정신 못 차리게 해\n",
      "#그래 알겠지 넌 참\n",
      "#날 기가 막히게 해\n",
      "#너는 날 춤추게 하고\n",
      "#술 없이 취하게 해\n",
      "#그래 알겠지 넌 참\n",
      "#착한 날 독하게 해\n",
      "#우리 둘만의\n",
      "#이 영화에\n",
      "#진짜 주인공은 너였어 baby\n",
      "#그래 넌 오늘도 너답게\n",
      "#화려한 주인공처럼\n",
      "#그저 하던 대로 해\n",
      "#그게 악역이라도\n",
      "#나를 슬프게 해도\n",
      "#넌 너여야만 해\n",
      "#내가 아플지라도\n",
      "#슬픈 엔딩이라도\n",
      "#the show must go on\n",
      "#the show must go on\n",
      "#너는 늘 끝장을 보고\n",
      "#모든 걸 덮으려 해\n",
      "#왜 날개를 달아주고\n",
      "#추락하자 해\n",
      "#너는 늘 착하지 라며\n",
      "#날 눈물 삼키게 하잖아\n",
      "#그래 알겠지 알겠지\n",
      "#넌 날 혹하게 해\n",
      "#우리 둘만의\n",
      "#이 드라마에\n",
      "#진짜 주인공은 너였어 baby\n",
      "#그래 넌 오늘도 너답게\n",
      "#화려한 주인공처럼\n",
      "#그저 하던 대로 해\n",
      "#그게 악역이라도\n",
      "#나를 슬프게 해도\n",
      "#넌 너여야만 해\n",
      "#내가 아플지라도\n",
      "#슬픈 엔딩이라도\n",
      "#the show must go on\n",
      "#the show must go on\n",
      "#그저 하던 대로 해\n",
      "#그게 악역이라도\n",
      "#나를 슬프게 해도\n",
      "#넌 너여야만 해\n",
      "#내가 아플지라도\n",
      "#슬픈 엔딩이라도\n",
      "#the show must go on\n",
      "#the show must go on\n",
      "#you must go on\n"
     ]
    }
   ],
   "source": [
    "with open('가사.txt', 'rt', encoding='utf8') as f:\n",
    "    # print(f.read())  # 파일 전체 내용 읽기\n",
    "#     for line in f.read().splitlines():\n",
    "#         print(line)\n",
    "    \n",
    "    for line in f:\n",
    "        print('#' + line.strip())  # 좌/우 화이트스페이스 제거"
   ]
  },
  {
   "cell_type": "markdown",
   "metadata": {},
   "source": [
    "## 재미로 해보는 크롤링 (네이버 웹툰 이미지 다운로드)"
   ]
  },
  {
   "cell_type": "markdown",
   "metadata": {},
   "source": [
    "아래 코드를 실행 전에 다음 2개 라이브러리가 필요합니다.\n",
    "\n",
    "```\n",
    "pip install requests beautifulsoup4\n",
    "```"
   ]
  },
  {
   "cell_type": "code",
   "execution_count": 67,
   "metadata": {},
   "outputs": [
    {
     "name": "stdout",
     "output_type": "stream",
     "text": [
      "다운받는 중 ...  20180102172449_4692a9ef2520f905b6601e7e18ad6cd8_IMAG01_1.jpg\n",
      "다운받는 중 ...  20180102172449_4692a9ef2520f905b6601e7e18ad6cd8_IMAG01_2.jpg\n",
      "다운받는 중 ...  20180102172449_4692a9ef2520f905b6601e7e18ad6cd8_IMAG01_3.jpg\n",
      "다운받는 중 ...  20180102172449_4692a9ef2520f905b6601e7e18ad6cd8_IMAG01_4.jpg\n",
      "다운받는 중 ...  20180102172449_4692a9ef2520f905b6601e7e18ad6cd8_IMAG01_5.jpg\n",
      "다운받는 중 ...  20180102172449_4692a9ef2520f905b6601e7e18ad6cd8_IMAG01_6.jpg\n",
      "다운받는 중 ...  20180102172449_4692a9ef2520f905b6601e7e18ad6cd8_IMAG01_7.jpg\n",
      "다운받는 중 ...  20180102172449_4692a9ef2520f905b6601e7e18ad6cd8_IMAG01_8.jpg\n",
      "다운받는 중 ...  20180102172449_4692a9ef2520f905b6601e7e18ad6cd8_IMAG01_9.jpg\n",
      "다운받는 중 ...  20180102172449_4692a9ef2520f905b6601e7e18ad6cd8_IMAG01_10.jpg\n",
      "다운받는 중 ...  20180102172449_4692a9ef2520f905b6601e7e18ad6cd8_IMAG01_11.jpg\n",
      "다운받는 중 ...  20180102172449_4692a9ef2520f905b6601e7e18ad6cd8_IMAG01_12.jpg\n",
      "다운받는 중 ...  20180102172449_4692a9ef2520f905b6601e7e18ad6cd8_IMAG01_13.jpg\n",
      "다운받는 중 ...  20180102172449_4692a9ef2520f905b6601e7e18ad6cd8_IMAG01_14.jpg\n",
      "다운받는 중 ...  20180102172449_4692a9ef2520f905b6601e7e18ad6cd8_IMAG01_15.jpg\n",
      "다운받는 중 ...  20180102172449_4692a9ef2520f905b6601e7e18ad6cd8_IMAG01_16.jpg\n",
      "다운받는 중 ...  20180102172449_4692a9ef2520f905b6601e7e18ad6cd8_IMAG01_17.jpg\n",
      "다운받는 중 ...  20180102172449_4692a9ef2520f905b6601e7e18ad6cd8_IMAG01_18.jpg\n",
      "다운받는 중 ...  20180102172449_4692a9ef2520f905b6601e7e18ad6cd8_IMAG01_19.jpg\n",
      "다운받는 중 ...  20180102172449_4692a9ef2520f905b6601e7e18ad6cd8_IMAG01_20.jpg\n",
      "다운받는 중 ...  20180102172449_4692a9ef2520f905b6601e7e18ad6cd8_IMAG01_21.jpg\n",
      "다운받는 중 ...  20180102172449_4692a9ef2520f905b6601e7e18ad6cd8_IMAG01_22.jpg\n",
      "다운받는 중 ...  20180102172449_4692a9ef2520f905b6601e7e18ad6cd8_IMAG01_23.jpg\n",
      "다운받는 중 ...  20180102172449_4692a9ef2520f905b6601e7e18ad6cd8_IMAG01_24.jpg\n",
      "다운받는 중 ...  20180102172449_4692a9ef2520f905b6601e7e18ad6cd8_IMAG01_25.jpg\n",
      "다운받는 중 ...  20180102172449_4692a9ef2520f905b6601e7e18ad6cd8_IMAG01_26.jpg\n",
      "다운받는 중 ...  20180102172449_4692a9ef2520f905b6601e7e18ad6cd8_IMAG01_27.jpg\n",
      "다운받는 중 ...  20180102172449_4692a9ef2520f905b6601e7e18ad6cd8_IMAG01_28.jpg\n",
      "다운받는 중 ...  20180102172449_4692a9ef2520f905b6601e7e18ad6cd8_IMAG01_29.jpg\n",
      "다운받는 중 ...  20180102172449_4692a9ef2520f905b6601e7e18ad6cd8_IMAG01_30.jpg\n",
      "다운받는 중 ...  20180102172449_4692a9ef2520f905b6601e7e18ad6cd8_IMAG01_31.jpg\n",
      "다운받는 중 ...  20180102172449_4692a9ef2520f905b6601e7e18ad6cd8_IMAG01_32.jpg\n",
      "다운받는 중 ...  20180102172449_4692a9ef2520f905b6601e7e18ad6cd8_IMAG01_33.jpg\n",
      "다운받는 중 ...  20180102172449_4692a9ef2520f905b6601e7e18ad6cd8_IMAG01_34.jpg\n",
      "다운받는 중 ...  20180102172449_4692a9ef2520f905b6601e7e18ad6cd8_IMAG01_35.jpg\n",
      "다운받는 중 ...  20180102172449_4692a9ef2520f905b6601e7e18ad6cd8_IMAG01_36.jpg\n",
      "다운받는 중 ...  20180102172449_4692a9ef2520f905b6601e7e18ad6cd8_IMAG01_37.jpg\n",
      "다운받는 중 ...  20180102172449_4692a9ef2520f905b6601e7e18ad6cd8_IMAG01_38.jpg\n",
      "다운받는 중 ...  20180102172449_4692a9ef2520f905b6601e7e18ad6cd8_IMAG01_39.jpg\n",
      "다운받는 중 ...  20180102172449_4692a9ef2520f905b6601e7e18ad6cd8_IMAG01_40.jpg\n",
      "다운받는 중 ...  20180102172449_4692a9ef2520f905b6601e7e18ad6cd8_IMAG01_41.jpg\n",
      "다운받는 중 ...  20180102172449_4692a9ef2520f905b6601e7e18ad6cd8_IMAG01_42.jpg\n",
      "다운받는 중 ...  20180102172449_4692a9ef2520f905b6601e7e18ad6cd8_IMAG01_43.jpg\n",
      "다운받는 중 ...  20180102172449_4692a9ef2520f905b6601e7e18ad6cd8_IMAG01_44.jpg\n",
      "다운받는 중 ...  20180102172449_4692a9ef2520f905b6601e7e18ad6cd8_IMAG01_45.jpg\n",
      "다운받는 중 ...  20180102172449_4692a9ef2520f905b6601e7e18ad6cd8_IMAG01_46.jpg\n",
      "다운받는 중 ...  20180102172449_4692a9ef2520f905b6601e7e18ad6cd8_IMAG01_47.jpg\n",
      "다운받는 중 ...  20180102172449_4692a9ef2520f905b6601e7e18ad6cd8_IMAG01_48.jpg\n",
      "다운받는 중 ...  20180102172449_4692a9ef2520f905b6601e7e18ad6cd8_IMAG01_49.jpg\n",
      "다운받는 중 ...  20180102172449_4692a9ef2520f905b6601e7e18ad6cd8_IMAG01_50.jpg\n",
      "다운받는 중 ...  20180102172449_4692a9ef2520f905b6601e7e18ad6cd8_IMAG01_51.jpg\n",
      "다운받는 중 ...  20180102172449_4692a9ef2520f905b6601e7e18ad6cd8_IMAG01_52.jpg\n",
      "다운받는 중 ...  20180102172449_4692a9ef2520f905b6601e7e18ad6cd8_IMAG01_53.jpg\n",
      "다운받는 중 ...  20180102172449_4692a9ef2520f905b6601e7e18ad6cd8_IMAG01_54.jpg\n",
      "다운받는 중 ...  20180102172449_4692a9ef2520f905b6601e7e18ad6cd8_IMAG01_55.jpg\n",
      "다운받는 중 ...  20180102172449_4692a9ef2520f905b6601e7e18ad6cd8_IMAG01_56.jpg\n",
      "다운받는 중 ...  20180102172449_4692a9ef2520f905b6601e7e18ad6cd8_IMAG01_57.jpg\n",
      "다운받는 중 ...  20180102172449_4692a9ef2520f905b6601e7e18ad6cd8_IMAG01_58.jpg\n",
      "다운받는 중 ...  20180102172449_4692a9ef2520f905b6601e7e18ad6cd8_IMAG01_59.jpg\n",
      "다운받는 중 ...  20180102172449_4692a9ef2520f905b6601e7e18ad6cd8_IMAG01_60.jpg\n",
      "다운받는 중 ...  20180102172449_4692a9ef2520f905b6601e7e18ad6cd8_IMAG01_61.jpg\n",
      "다운받는 중 ...  20180102172449_4692a9ef2520f905b6601e7e18ad6cd8_IMAG01_62.jpg\n",
      "다운받는 중 ...  20180102172449_4692a9ef2520f905b6601e7e18ad6cd8_IMAG01_63.jpg\n",
      "다운받는 중 ...  20180102172449_4692a9ef2520f905b6601e7e18ad6cd8_IMAG01_64.jpg\n",
      "다운받는 중 ...  20180102172449_4692a9ef2520f905b6601e7e18ad6cd8_IMAG01_65.jpg\n",
      "다운받는 중 ...  20180102172449_4692a9ef2520f905b6601e7e18ad6cd8_IMAG01_66.jpg\n",
      "다운받는 중 ...  20180102172449_4692a9ef2520f905b6601e7e18ad6cd8_IMAG01_67.jpg\n",
      "다운받는 중 ...  20180102172449_4692a9ef2520f905b6601e7e18ad6cd8_IMAG01_68.jpg\n"
     ]
    },
    {
     "ename": "MissingSchema",
     "evalue": "Invalid URL '': No schema supplied. Perhaps you meant http://?",
     "output_type": "error",
     "traceback": [
      "\u001b[0;31m---------------------------------------------------------------------------\u001b[0m",
      "\u001b[0;31mMissingSchema\u001b[0m                             Traceback (most recent call last)",
      "\u001b[0;32m<ipython-input-67-8061f2e666b9>\u001b[0m in \u001b[0;36m<module>\u001b[0;34m()\u001b[0m\n\u001b[1;32m     14\u001b[0m     \u001b[0mimg_url\u001b[0m \u001b[0;34m=\u001b[0m \u001b[0mtag\u001b[0m\u001b[0;34m[\u001b[0m\u001b[0;34m'src'\u001b[0m\u001b[0;34m]\u001b[0m\u001b[0;34m\u001b[0m\u001b[0m\n\u001b[1;32m     15\u001b[0m     \u001b[0mheaders\u001b[0m \u001b[0;34m=\u001b[0m \u001b[0;34m{\u001b[0m\u001b[0;34m'Referer'\u001b[0m\u001b[0;34m:\u001b[0m \u001b[0mep_url\u001b[0m\u001b[0;34m}\u001b[0m\u001b[0;34m\u001b[0m\u001b[0m\n\u001b[0;32m---> 16\u001b[0;31m     \u001b[0mres\u001b[0m \u001b[0;34m=\u001b[0m \u001b[0mrequests\u001b[0m\u001b[0;34m.\u001b[0m\u001b[0mget\u001b[0m\u001b[0;34m(\u001b[0m\u001b[0mimg_url\u001b[0m\u001b[0;34m,\u001b[0m \u001b[0mheaders\u001b[0m\u001b[0;34m=\u001b[0m\u001b[0mheaders\u001b[0m\u001b[0;34m)\u001b[0m\u001b[0;34m\u001b[0m\u001b[0m\n\u001b[0m\u001b[1;32m     17\u001b[0m     \u001b[0mimg_data\u001b[0m \u001b[0;34m=\u001b[0m \u001b[0mres\u001b[0m\u001b[0;34m.\u001b[0m\u001b[0mcontent\u001b[0m\u001b[0;34m\u001b[0m\u001b[0m\n\u001b[1;32m     18\u001b[0m     \u001b[0mimg_name\u001b[0m \u001b[0;34m=\u001b[0m \u001b[0mos\u001b[0m\u001b[0;34m.\u001b[0m\u001b[0mpath\u001b[0m\u001b[0;34m.\u001b[0m\u001b[0mbasename\u001b[0m\u001b[0;34m(\u001b[0m\u001b[0mimg_url\u001b[0m\u001b[0;34m)\u001b[0m  \u001b[0;31m# url로부터 끝의 파일명을 뽑아냅니다.\u001b[0m\u001b[0;34m\u001b[0m\u001b[0m\n",
      "\u001b[0;32m~/anaconda3/lib/python3.6/site-packages/requests/api.py\u001b[0m in \u001b[0;36mget\u001b[0;34m(url, params, **kwargs)\u001b[0m\n\u001b[1;32m     70\u001b[0m \u001b[0;34m\u001b[0m\u001b[0m\n\u001b[1;32m     71\u001b[0m     \u001b[0mkwargs\u001b[0m\u001b[0;34m.\u001b[0m\u001b[0msetdefault\u001b[0m\u001b[0;34m(\u001b[0m\u001b[0;34m'allow_redirects'\u001b[0m\u001b[0;34m,\u001b[0m \u001b[0;32mTrue\u001b[0m\u001b[0;34m)\u001b[0m\u001b[0;34m\u001b[0m\u001b[0m\n\u001b[0;32m---> 72\u001b[0;31m     \u001b[0;32mreturn\u001b[0m \u001b[0mrequest\u001b[0m\u001b[0;34m(\u001b[0m\u001b[0;34m'get'\u001b[0m\u001b[0;34m,\u001b[0m \u001b[0murl\u001b[0m\u001b[0;34m,\u001b[0m \u001b[0mparams\u001b[0m\u001b[0;34m=\u001b[0m\u001b[0mparams\u001b[0m\u001b[0;34m,\u001b[0m \u001b[0;34m**\u001b[0m\u001b[0mkwargs\u001b[0m\u001b[0;34m)\u001b[0m\u001b[0;34m\u001b[0m\u001b[0m\n\u001b[0m\u001b[1;32m     73\u001b[0m \u001b[0;34m\u001b[0m\u001b[0m\n\u001b[1;32m     74\u001b[0m \u001b[0;34m\u001b[0m\u001b[0m\n",
      "\u001b[0;32m~/anaconda3/lib/python3.6/site-packages/requests/api.py\u001b[0m in \u001b[0;36mrequest\u001b[0;34m(method, url, **kwargs)\u001b[0m\n\u001b[1;32m     56\u001b[0m     \u001b[0;31m# cases, and look like a memory leak in others.\u001b[0m\u001b[0;34m\u001b[0m\u001b[0;34m\u001b[0m\u001b[0m\n\u001b[1;32m     57\u001b[0m     \u001b[0;32mwith\u001b[0m \u001b[0msessions\u001b[0m\u001b[0;34m.\u001b[0m\u001b[0mSession\u001b[0m\u001b[0;34m(\u001b[0m\u001b[0;34m)\u001b[0m \u001b[0;32mas\u001b[0m \u001b[0msession\u001b[0m\u001b[0;34m:\u001b[0m\u001b[0;34m\u001b[0m\u001b[0m\n\u001b[0;32m---> 58\u001b[0;31m         \u001b[0;32mreturn\u001b[0m \u001b[0msession\u001b[0m\u001b[0;34m.\u001b[0m\u001b[0mrequest\u001b[0m\u001b[0;34m(\u001b[0m\u001b[0mmethod\u001b[0m\u001b[0;34m=\u001b[0m\u001b[0mmethod\u001b[0m\u001b[0;34m,\u001b[0m \u001b[0murl\u001b[0m\u001b[0;34m=\u001b[0m\u001b[0murl\u001b[0m\u001b[0;34m,\u001b[0m \u001b[0;34m**\u001b[0m\u001b[0mkwargs\u001b[0m\u001b[0;34m)\u001b[0m\u001b[0;34m\u001b[0m\u001b[0m\n\u001b[0m\u001b[1;32m     59\u001b[0m \u001b[0;34m\u001b[0m\u001b[0m\n\u001b[1;32m     60\u001b[0m \u001b[0;34m\u001b[0m\u001b[0m\n",
      "\u001b[0;32m~/anaconda3/lib/python3.6/site-packages/requests/sessions.py\u001b[0m in \u001b[0;36mrequest\u001b[0;34m(self, method, url, params, data, headers, cookies, files, auth, timeout, allow_redirects, proxies, hooks, stream, verify, cert, json)\u001b[0m\n\u001b[1;32m    492\u001b[0m             \u001b[0mhooks\u001b[0m\u001b[0;34m=\u001b[0m\u001b[0mhooks\u001b[0m\u001b[0;34m,\u001b[0m\u001b[0;34m\u001b[0m\u001b[0m\n\u001b[1;32m    493\u001b[0m         )\n\u001b[0;32m--> 494\u001b[0;31m         \u001b[0mprep\u001b[0m \u001b[0;34m=\u001b[0m \u001b[0mself\u001b[0m\u001b[0;34m.\u001b[0m\u001b[0mprepare_request\u001b[0m\u001b[0;34m(\u001b[0m\u001b[0mreq\u001b[0m\u001b[0;34m)\u001b[0m\u001b[0;34m\u001b[0m\u001b[0m\n\u001b[0m\u001b[1;32m    495\u001b[0m \u001b[0;34m\u001b[0m\u001b[0m\n\u001b[1;32m    496\u001b[0m         \u001b[0mproxies\u001b[0m \u001b[0;34m=\u001b[0m \u001b[0mproxies\u001b[0m \u001b[0;32mor\u001b[0m \u001b[0;34m{\u001b[0m\u001b[0;34m}\u001b[0m\u001b[0;34m\u001b[0m\u001b[0m\n",
      "\u001b[0;32m~/anaconda3/lib/python3.6/site-packages/requests/sessions.py\u001b[0m in \u001b[0;36mprepare_request\u001b[0;34m(self, request)\u001b[0m\n\u001b[1;32m    435\u001b[0m             \u001b[0mauth\u001b[0m\u001b[0;34m=\u001b[0m\u001b[0mmerge_setting\u001b[0m\u001b[0;34m(\u001b[0m\u001b[0mauth\u001b[0m\u001b[0;34m,\u001b[0m \u001b[0mself\u001b[0m\u001b[0;34m.\u001b[0m\u001b[0mauth\u001b[0m\u001b[0;34m)\u001b[0m\u001b[0;34m,\u001b[0m\u001b[0;34m\u001b[0m\u001b[0m\n\u001b[1;32m    436\u001b[0m             \u001b[0mcookies\u001b[0m\u001b[0;34m=\u001b[0m\u001b[0mmerged_cookies\u001b[0m\u001b[0;34m,\u001b[0m\u001b[0;34m\u001b[0m\u001b[0m\n\u001b[0;32m--> 437\u001b[0;31m             \u001b[0mhooks\u001b[0m\u001b[0;34m=\u001b[0m\u001b[0mmerge_hooks\u001b[0m\u001b[0;34m(\u001b[0m\u001b[0mrequest\u001b[0m\u001b[0;34m.\u001b[0m\u001b[0mhooks\u001b[0m\u001b[0;34m,\u001b[0m \u001b[0mself\u001b[0m\u001b[0;34m.\u001b[0m\u001b[0mhooks\u001b[0m\u001b[0;34m)\u001b[0m\u001b[0;34m,\u001b[0m\u001b[0;34m\u001b[0m\u001b[0m\n\u001b[0m\u001b[1;32m    438\u001b[0m         )\n\u001b[1;32m    439\u001b[0m         \u001b[0;32mreturn\u001b[0m \u001b[0mp\u001b[0m\u001b[0;34m\u001b[0m\u001b[0m\n",
      "\u001b[0;32m~/anaconda3/lib/python3.6/site-packages/requests/models.py\u001b[0m in \u001b[0;36mprepare\u001b[0;34m(self, method, url, headers, files, data, params, auth, cookies, hooks, json)\u001b[0m\n\u001b[1;32m    303\u001b[0m \u001b[0;34m\u001b[0m\u001b[0m\n\u001b[1;32m    304\u001b[0m         \u001b[0mself\u001b[0m\u001b[0;34m.\u001b[0m\u001b[0mprepare_method\u001b[0m\u001b[0;34m(\u001b[0m\u001b[0mmethod\u001b[0m\u001b[0;34m)\u001b[0m\u001b[0;34m\u001b[0m\u001b[0m\n\u001b[0;32m--> 305\u001b[0;31m         \u001b[0mself\u001b[0m\u001b[0;34m.\u001b[0m\u001b[0mprepare_url\u001b[0m\u001b[0;34m(\u001b[0m\u001b[0murl\u001b[0m\u001b[0;34m,\u001b[0m \u001b[0mparams\u001b[0m\u001b[0;34m)\u001b[0m\u001b[0;34m\u001b[0m\u001b[0m\n\u001b[0m\u001b[1;32m    306\u001b[0m         \u001b[0mself\u001b[0m\u001b[0;34m.\u001b[0m\u001b[0mprepare_headers\u001b[0m\u001b[0;34m(\u001b[0m\u001b[0mheaders\u001b[0m\u001b[0;34m)\u001b[0m\u001b[0;34m\u001b[0m\u001b[0m\n\u001b[1;32m    307\u001b[0m         \u001b[0mself\u001b[0m\u001b[0;34m.\u001b[0m\u001b[0mprepare_cookies\u001b[0m\u001b[0;34m(\u001b[0m\u001b[0mcookies\u001b[0m\u001b[0;34m)\u001b[0m\u001b[0;34m\u001b[0m\u001b[0m\n",
      "\u001b[0;32m~/anaconda3/lib/python3.6/site-packages/requests/models.py\u001b[0m in \u001b[0;36mprepare_url\u001b[0;34m(self, url, params)\u001b[0m\n\u001b[1;32m    377\u001b[0m             \u001b[0merror\u001b[0m \u001b[0;34m=\u001b[0m \u001b[0merror\u001b[0m\u001b[0;34m.\u001b[0m\u001b[0mformat\u001b[0m\u001b[0;34m(\u001b[0m\u001b[0mto_native_string\u001b[0m\u001b[0;34m(\u001b[0m\u001b[0murl\u001b[0m\u001b[0;34m,\u001b[0m \u001b[0;34m'utf8'\u001b[0m\u001b[0;34m)\u001b[0m\u001b[0;34m)\u001b[0m\u001b[0;34m\u001b[0m\u001b[0m\n\u001b[1;32m    378\u001b[0m \u001b[0;34m\u001b[0m\u001b[0m\n\u001b[0;32m--> 379\u001b[0;31m             \u001b[0;32mraise\u001b[0m \u001b[0mMissingSchema\u001b[0m\u001b[0;34m(\u001b[0m\u001b[0merror\u001b[0m\u001b[0;34m)\u001b[0m\u001b[0;34m\u001b[0m\u001b[0m\n\u001b[0m\u001b[1;32m    380\u001b[0m \u001b[0;34m\u001b[0m\u001b[0m\n\u001b[1;32m    381\u001b[0m         \u001b[0;32mif\u001b[0m \u001b[0;32mnot\u001b[0m \u001b[0mhost\u001b[0m\u001b[0;34m:\u001b[0m\u001b[0;34m\u001b[0m\u001b[0m\n",
      "\u001b[0;31mMissingSchema\u001b[0m: Invalid URL '': No schema supplied. Perhaps you meant http://?"
     ]
    }
   ],
   "source": [
    "import os\n",
    "import requests\n",
    "from bs4 import BeautifulSoup\n",
    "\n",
    "# 이미지를 가져오고 싶은, 웹툰의 특정 에피소드 주소를 지정해주세요.\n",
    "ep_url = 'http://comic.naver.com/webtoon/detail.nhn?titleId=662774&no=118&weekday=wed'\n",
    "\n",
    "res = requests.get(ep_url)\n",
    "html = res.text\n",
    "\n",
    "soup = BeautifulSoup(html, 'html.parser')\n",
    "\n",
    "for tag in soup.select('.view_area img'):\n",
    "    img_url = tag.get('src')  # ''\n",
    "    if img_url:\n",
    "        headers = {'Referer': ep_url}\n",
    "        res = requests.get(img_url, headers=headers)\n",
    "        img_data = res.content\n",
    "        img_name = os.path.basename(img_url)  # url로부터 끝의 파일명을 뽑아냅니다.\n",
    "\n",
    "        print('다운받는 중 ... ', img_name)\n",
    "\n",
    "        img_path = '고수/' + img_name\n",
    "        img_dirpath = os.path.dirname(img_path)\n",
    "        if not os.path.exists(img_dirpath):\n",
    "            os.makedirs(img_dirpath)\n",
    "\n",
    "        with open(img_path, 'wb') as f:\n",
    "            f.write(img_data)"
   ]
  },
  {
   "cell_type": "code",
   "execution_count": null,
   "metadata": {
    "collapsed": true
   },
   "outputs": [],
   "source": []
  }
 ],
 "metadata": {
  "kernelspec": {
   "display_name": "Python 3",
   "language": "python",
   "name": "python3"
  },
  "language_info": {
   "codemirror_mode": {
    "name": "ipython",
    "version": 3
   },
   "file_extension": ".py",
   "mimetype": "text/x-python",
   "name": "python",
   "nbconvert_exporter": "python",
   "pygments_lexer": "ipython3",
   "version": "3.6.3"
  }
 },
 "nbformat": 4,
 "nbformat_minor": 2
}
