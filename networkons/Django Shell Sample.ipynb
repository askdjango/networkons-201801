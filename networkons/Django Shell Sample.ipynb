{
 "cells": [
  {
   "cell_type": "code",
   "execution_count": 1,
   "metadata": {},
   "outputs": [],
   "source": [
    "from dojo1.models import Field"
   ]
  },
  {
   "cell_type": "code",
   "execution_count": 2,
   "metadata": {},
   "outputs": [
    {
     "data": {
      "text/plain": [
       "<QuerySet [<Field: Field object>, <Field: Field object>, <Field: Field object>]>"
      ]
     },
     "execution_count": 2,
     "metadata": {},
     "output_type": "execute_result"
    }
   ],
   "source": [
    "Field.objects.all()"
   ]
  },
  {
   "cell_type": "code",
   "execution_count": 3,
   "metadata": {},
   "outputs": [],
   "source": [
    "from django.template.loader import render_to_string"
   ]
  },
  {
   "cell_type": "code",
   "execution_count": 8,
   "metadata": {},
   "outputs": [
    {
     "name": "stdout",
     "output_type": "stream",
     "text": [
      "안녕하세요. 이진석님.\n",
      "\n",
      "신청하신 건들에 대한 처리가 끝났습니다. 내역은 아래와 같습니다.\n",
      "\n",
      "- 휴대폰 수리건: 2018-1-1\n",
      "- 노트북 수리건: 2018-1-2\n",
      "- 냉장고 수리건: 2018-1-3\n",
      "\n",
      "총 비용은 100000원입니다.\n",
      "\n",
      "감사합니다.\n",
      "\n"
     ]
    }
   ],
   "source": [
    "record_list = [\n",
    "    {'name': '휴대폰 수리건', 'created_at': '2018-1-1'},\n",
    "    {'name': '노트북 수리건', 'created_at': '2018-1-2'},\n",
    "    {'name': '냉장고 수리건', 'created_at': '2018-1-3'},\n",
    "]\n",
    "\n",
    "message = render_to_string('dojo1/sms_message.txt', {\n",
    "    'name': '이진석',\n",
    "    'record_list': record_list,\n",
    "    'amount': 100000,\n",
    "})\n",
    "print(message)"
   ]
  },
  {
   "cell_type": "code",
   "execution_count": null,
   "metadata": {},
   "outputs": [],
   "source": []
  },
  {
   "cell_type": "code",
   "execution_count": null,
   "metadata": {},
   "outputs": [],
   "source": []
  }
 ],
 "metadata": {
  "kernelspec": {
   "display_name": "Django Shell-Plus",
   "language": "python",
   "name": "django_extensions"
  },
  "language_info": {
   "codemirror_mode": {
    "name": "ipython",
    "version": 3
   },
   "file_extension": ".py",
   "mimetype": "text/x-python",
   "name": "python",
   "nbconvert_exporter": "python",
   "pygments_lexer": "ipython3",
   "version": "3.6.3"
  }
 },
 "nbformat": 4,
 "nbformat_minor": 2
}
