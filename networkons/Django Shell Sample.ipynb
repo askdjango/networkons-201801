{
 "cells": [
  {
   "cell_type": "code",
   "execution_count": 1,
   "metadata": {},
   "outputs": [],
   "source": [
    "from dojo1.models import Field"
   ]
  },
  {
   "cell_type": "code",
   "execution_count": 2,
   "metadata": {},
   "outputs": [
    {
     "data": {
      "text/plain": [
       "<QuerySet [<Field: Field object>, <Field: Field object>, <Field: Field object>]>"
      ]
     },
     "execution_count": 2,
     "metadata": {},
     "output_type": "execute_result"
    }
   ],
   "source": [
    "Field.objects.all()"
   ]
  },
  {
   "cell_type": "code",
   "execution_count": 3,
   "metadata": {},
   "outputs": [],
   "source": [
    "from django.template.loader import render_to_string"
   ]
  },
  {
   "cell_type": "code",
   "execution_count": 8,
   "metadata": {},
   "outputs": [
    {
     "name": "stdout",
     "output_type": "stream",
     "text": [
      "안녕하세요. 이진석님.\n",
      "\n",
      "신청하신 건들에 대한 처리가 끝났습니다. 내역은 아래와 같습니다.\n",
      "\n",
      "- 휴대폰 수리건: 2018-1-1\n",
      "- 노트북 수리건: 2018-1-2\n",
      "- 냉장고 수리건: 2018-1-3\n",
      "\n",
      "총 비용은 100000원입니다.\n",
      "\n",
      "감사합니다.\n",
      "\n"
     ]
    }
   ],
   "source": [
    "record_list = [\n",
    "    {'name': '휴대폰 수리건', 'created_at': '2018-1-1'},\n",
    "    {'name': '노트북 수리건', 'created_at': '2018-1-2'},\n",
    "    {'name': '냉장고 수리건', 'created_at': '2018-1-3'},\n",
    "]\n",
    "\n",
    "message = render_to_string('dojo1/sms_message.txt', {\n",
    "    'name': '이진석',\n",
    "    'record_list': record_list,\n",
    "    'amount': 100000,\n",
    "})\n",
    "print(message)"
   ]
  },
  {
   "cell_type": "markdown",
   "metadata": {},
   "source": [
    "## 지도 mapping 실습"
   ]
  },
  {
   "cell_type": "code",
   "execution_count": 6,
   "metadata": {},
   "outputs": [],
   "source": [
    "import pandas as pd"
   ]
  },
  {
   "cell_type": "code",
   "execution_count": 7,
   "metadata": {},
   "outputs": [
    {
     "data": {
      "text/html": [
       "<div>\n",
       "<style scoped>\n",
       "    .dataframe tbody tr th:only-of-type {\n",
       "        vertical-align: middle;\n",
       "    }\n",
       "\n",
       "    .dataframe tbody tr th {\n",
       "        vertical-align: top;\n",
       "    }\n",
       "\n",
       "    .dataframe thead th {\n",
       "        text-align: right;\n",
       "    }\n",
       "</style>\n",
       "<table border=\"1\" class=\"dataframe\">\n",
       "  <thead>\n",
       "    <tr style=\"text-align: right;\">\n",
       "      <th></th>\n",
       "      <th>voc_type</th>\n",
       "      <th>try_nm</th>\n",
       "      <th>sgg_nm</th>\n",
       "      <th>emd_nm</th>\n",
       "      <th>longitude</th>\n",
       "      <th>latitite</th>\n",
       "      <th>occr_date</th>\n",
       "    </tr>\n",
       "  </thead>\n",
       "  <tbody>\n",
       "    <tr>\n",
       "      <th>0</th>\n",
       "      <td>HDVoice품질</td>\n",
       "      <td>강원</td>\n",
       "      <td>강릉시</td>\n",
       "      <td>장현동</td>\n",
       "      <td>128.888430</td>\n",
       "      <td>37.732395</td>\n",
       "      <td>20170620</td>\n",
       "    </tr>\n",
       "    <tr>\n",
       "      <th>1</th>\n",
       "      <td>음성품질</td>\n",
       "      <td>강원</td>\n",
       "      <td>강릉시</td>\n",
       "      <td>구정면</td>\n",
       "      <td>128.856951</td>\n",
       "      <td>37.719397</td>\n",
       "      <td>20170620</td>\n",
       "    </tr>\n",
       "    <tr>\n",
       "      <th>2</th>\n",
       "      <td>HDVoice품질</td>\n",
       "      <td>강원</td>\n",
       "      <td>강릉시</td>\n",
       "      <td>교동</td>\n",
       "      <td>128.899544</td>\n",
       "      <td>37.761604</td>\n",
       "      <td>20170620</td>\n",
       "    </tr>\n",
       "    <tr>\n",
       "      <th>3</th>\n",
       "      <td>HDVoice품질</td>\n",
       "      <td>강원</td>\n",
       "      <td>강릉시</td>\n",
       "      <td>교동</td>\n",
       "      <td>128.880934</td>\n",
       "      <td>37.764728</td>\n",
       "      <td>20170620</td>\n",
       "    </tr>\n",
       "    <tr>\n",
       "      <th>4</th>\n",
       "      <td>HDVoice품질</td>\n",
       "      <td>강원</td>\n",
       "      <td>강릉시</td>\n",
       "      <td>사천면</td>\n",
       "      <td>128.810161</td>\n",
       "      <td>37.837852</td>\n",
       "      <td>20170620</td>\n",
       "    </tr>\n",
       "  </tbody>\n",
       "</table>\n",
       "</div>"
      ],
      "text/plain": [
       "    voc_type try_nm sgg_nm emd_nm   longitude   latitite  occr_date\n",
       "0  HDVoice품질     강원    강릉시    장현동  128.888430  37.732395   20170620\n",
       "1       음성품질     강원    강릉시    구정면  128.856951  37.719397   20170620\n",
       "2  HDVoice품질     강원    강릉시     교동  128.899544  37.761604   20170620\n",
       "3  HDVoice품질     강원    강릉시     교동  128.880934  37.764728   20170620\n",
       "4  HDVoice품질     강원    강릉시    사천면  128.810161  37.837852   20170620"
      ]
     },
     "execution_count": 7,
     "metadata": {},
     "output_type": "execute_result"
    }
   ],
   "source": [
    "df = pd.read_excel('지도_mapping_실습.xlsx')\n",
    "df.head()"
   ]
  },
  {
   "cell_type": "code",
   "execution_count": 8,
   "metadata": {},
   "outputs": [],
   "source": [
    "df['addr'] = df['try_nm'] + ' ' + df['sgg_nm'] + ' ' + df['emd_nm']"
   ]
  },
  {
   "cell_type": "code",
   "execution_count": null,
   "metadata": {},
   "outputs": [],
   "source": [
    "for (index, row) in df.iterrows():\n",
    "    print(row.sgg_nm, row.latitite)"
   ]
  },
  {
   "cell_type": "markdown",
   "metadata": {},
   "source": [
    "## Place 모델"
   ]
  },
  {
   "cell_type": "code",
   "execution_count": 3,
   "metadata": {},
   "outputs": [],
   "source": [
    "from dojo1.models import Place\n",
    "from datetime import datetime"
   ]
  },
  {
   "cell_type": "code",
   "execution_count": 4,
   "metadata": {},
   "outputs": [
    {
     "data": {
      "text/plain": [
       "<QuerySet []>"
      ]
     },
     "execution_count": 4,
     "metadata": {},
     "output_type": "execute_result"
    }
   ],
   "source": [
    "Place.objects.all()"
   ]
  },
  {
   "cell_type": "code",
   "execution_count": 21,
   "metadata": {},
   "outputs": [],
   "source": [
    "for (index, row) in df.iterrows():\n",
    "    place = Place()\n",
    "    place.voc_type = row.voc_type\n",
    "    place.try_nm = row.try_nm\n",
    "    place.sgg_nm = row.sgg_nm\n",
    "    place.emd_nm = row.emd_nm\n",
    "    place.longitude = float(row.longitude)\n",
    "    place.latitute = float(row.latitite)\n",
    "    place.occr_date = datetime.now().today()\n",
    "    place.save()"
   ]
  },
  {
   "cell_type": "code",
   "execution_count": null,
   "metadata": {},
   "outputs": [],
   "source": []
  }
 ],
 "metadata": {
  "kernelspec": {
   "display_name": "Django Shell-Plus",
   "language": "python",
   "name": "django_extensions"
  },
  "language_info": {
   "codemirror_mode": {
    "name": "ipython",
    "version": 3
   },
   "file_extension": ".py",
   "mimetype": "text/x-python",
   "name": "python",
   "nbconvert_exporter": "python",
   "pygments_lexer": "ipython3",
   "version": "3.6.3"
  }
 },
 "nbformat": 4,
 "nbformat_minor": 2
}
